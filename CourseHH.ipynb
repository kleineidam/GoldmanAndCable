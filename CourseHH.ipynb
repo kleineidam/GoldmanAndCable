{
  "cells": [
    {
      "cell_type": "markdown",
      "metadata": {
        "id": "view-in-github",
        "colab_type": "text"
      },
      "source": [
        "<a href=\"https://colab.research.google.com/github/kleineidam/GoldmanAndCable/blob/main/CourseHH.ipynb\" target=\"_parent\"><img src=\"https://colab.research.google.com/assets/colab-badge.svg\" alt=\"Open In Colab\"/></a>"
      ]
    },
    {
      "cell_type": "markdown",
      "source": [
        "# **Neuron simulations**\n",
        "This notebook is for the CC Animal Physiology class at the University of Konstanz. It is using simplified models to illustrate the general principles of neuron function. Remember that in real neurons much more 'tools' (ions types and channels types) are available for complex functions.\n",
        "\n",
        "Implementation of the brian2 simulation by Moritz Schlötter.\n",
        "\n",
        "Christoph Kleineidam"
      ],
      "metadata": {
        "id": "tF53yLQPvnVX"
      },
      "id": "tF53yLQPvnVX"
    },
    {
      "cell_type": "markdown",
      "id": "b34a40b5",
      "metadata": {
        "id": "b34a40b5"
      },
      "source": [
        "# 1. Introduction\n",
        "\n",
        "This notebook contains scripts to run numerical computations and simulations to describe properties of neurons.\n",
        "It contains cells of text (like this one) and also code-cells (grey background).\n",
        "\n",
        "In ***Binder***, you can execute\n",
        "them by selecting and then pressing\n",
        " - SHIFT+ENTER to execute the cell and jump to the next cell\n",
        " - or CTRL+ENTER to execute and stay in the cell.\n",
        "Go through the notebook from top to bottom and execute cells by pressing SHIFT-ENTER.\n",
        "\n",
        "In ***Colab***, you activate/click the start button next to the code-cell (some are collapsed and code is hidden).\n",
        "\n",
        "The parts of the code that you are supposed to change are surrounded by a lines of hashes (######TODO#####).\n",
        "Subsequent code cells are folded into little dots and contain code that you do not need to inspect. (The code appears if you click on the dots. It can be collapsed again by clicking the colored bar left of the cell.)\n",
        "\n",
        "After editing a code-cell, press SHIFT-ENTER twice to set your parameters and then run the computation, or just press the start button (*Colab*)."
      ]
    },
    {
      "cell_type": "code",
      "source": [
        "# The brian2 package needs to be made available\n",
        "!pip install brian2"
      ],
      "metadata": {
        "colab": {
          "base_uri": "https://localhost:8080/"
        },
        "id": "31deJ1oNfJ6S",
        "outputId": "27d2cddf-0e6d-497e-cbe8-555bbef295ed"
      },
      "id": "31deJ1oNfJ6S",
      "execution_count": 1,
      "outputs": [
        {
          "output_type": "stream",
          "name": "stdout",
          "text": [
            "Collecting brian2\n",
            "  Downloading Brian2-2.8.0.4-cp311-cp311-manylinux_2_17_x86_64.manylinux2014_x86_64.whl.metadata (6.2 kB)\n",
            "Requirement already satisfied: numpy>=1.23.5 in /usr/local/lib/python3.11/dist-packages (from brian2) (1.26.4)\n",
            "Requirement already satisfied: cython>=0.29.21 in /usr/local/lib/python3.11/dist-packages (from brian2) (3.0.11)\n",
            "Requirement already satisfied: sympy>=1.2 in /usr/local/lib/python3.11/dist-packages (from brian2) (1.13.1)\n",
            "Requirement already satisfied: pyparsing in /usr/local/lib/python3.11/dist-packages (from brian2) (3.2.1)\n",
            "Requirement already satisfied: jinja2>=2.7 in /usr/local/lib/python3.11/dist-packages (from brian2) (3.1.5)\n",
            "Requirement already satisfied: setuptools>=61 in /usr/local/lib/python3.11/dist-packages (from brian2) (75.1.0)\n",
            "Requirement already satisfied: packaging in /usr/local/lib/python3.11/dist-packages (from brian2) (24.2)\n",
            "Requirement already satisfied: MarkupSafe>=2.0 in /usr/local/lib/python3.11/dist-packages (from jinja2>=2.7->brian2) (3.0.2)\n",
            "Requirement already satisfied: mpmath<1.4,>=1.1.0 in /usr/local/lib/python3.11/dist-packages (from sympy>=1.2->brian2) (1.3.0)\n",
            "Downloading Brian2-2.8.0.4-cp311-cp311-manylinux_2_17_x86_64.manylinux2014_x86_64.whl (1.8 MB)\n",
            "\u001b[2K   \u001b[90m━━━━━━━━━━━━━━━━━━━━━━━━━━━━━━━━━━━━━━━━\u001b[0m \u001b[32m1.8/1.8 MB\u001b[0m \u001b[31m18.5 MB/s\u001b[0m eta \u001b[36m0:00:00\u001b[0m\n",
            "\u001b[?25hInstalling collected packages: brian2\n",
            "Successfully installed brian2-2.8.0.4\n"
          ]
        }
      ]
    },
    {
      "cell_type": "code",
      "execution_count": 2,
      "id": "f518d1f2",
      "metadata": {
        "ExecuteTime": {
          "end_time": "2022-01-16T16:18:45.172216Z",
          "start_time": "2022-01-16T16:18:45.159723Z"
        },
        "hide_input": false,
        "tags": [],
        "colab": {
          "base_uri": "https://localhost:8080/"
        },
        "id": "f518d1f2",
        "outputId": "9f153080-41f8-4d11-c5fe-12f7ce090982"
      },
      "outputs": [
        {
          "output_type": "stream",
          "name": "stdout",
          "text": [
            "Ok\n"
          ]
        }
      ],
      "source": [
        "# This code-cell always need to be excetuted first\n",
        "# Packages and libraries are loaded for the calculations and plotting\n",
        "# Brian is a simulator for spiking neural networks. It is written in the Python programming language.\n",
        "# https://brian2.readthedocs.io\n",
        "\n",
        "from brian2 import *\n",
        "import matplotlib.pyplot as plt\n",
        "from matplotlib import pyplot as plt\n",
        "#%matplotlib ipympl\n",
        "print('Ok')"
      ]
    },
    {
      "cell_type": "markdown",
      "id": "82de8dd4",
      "metadata": {
        "id": "82de8dd4"
      },
      "source": [
        "The Course contains the following sections:\n",
        "\n",
        "2. The Goldman equation (or GHK; Goldman–Hodgkin–Katz voltage equation) describes a trans-membrane equilibrium potential. The GHK potential depends on ion specific permeabilities (conductivity).\n",
        "   - Explore the GHK equation and how it relates to the individual Nernst potentials.\n",
        "   - Explore the working range of the neuron's membrane potential.\n",
        "3. The HH model\n",
        "   - Explore the AP propagation velocity by changing different parameters.\n",
        "   - How does AP propagation velocity relates to the length constant $\\lambda$ ?\n",
        "   - Using the HH model to investigate ion channels.\n",
        "4. The Cable model\n",
        "   - Spreading of current in a passive cable.\n",
        "   - Cable properties and AP propagation velocities.\n",
        "\n",
        "   \n",
        "# 2. Goldman equation"
      ]
    },
    {
      "cell_type": "markdown",
      "id": "b102457e",
      "metadata": {
        "id": "b102457e"
      },
      "source": [
        "The transmembrane potential of a semipermeable membrane is dependent on the concentration [X] and conductivity $g_X$ of ions.\n",
        "When more than one ion species is considered around a semipermeable membrane, the equilibrium potential is given by the Goldmann equation. Considering only Sodium and Potassium, the Goldmann eq. is:"
      ]
    },
    {
      "cell_type": "markdown",
      "id": "fd12665d",
      "metadata": {
        "id": "fd12665d"
      },
      "source": [
        "$$\n",
        "V_{m, GHK} ={\\frac  {RT}{F}}\\ln {\\left({\\frac  {g_{{{\\text{Na}}}}[{\\text{Na}}^{{+}}]_{{\\mathrm  {out}}}+g_{{{\\text{K}}}}[{\\text{K}}^{{+}}]_{{\\mathrm  {out}}}}{g_{{{\\text{Na}}}}[{\\text{Na}}^{{+}}]_{{\\mathrm  {in}}}+g_{{{\\text{K}}}}[{\\text{K}}^{{+}}]_{{{\\mathrm  {in}}}}}}\\right)}\n",
        "$$\n",
        "$$\n",
        "%V_m ={\\frac  {RT}{F}}\\ln {\\left({\\frac  {P_{{{\\text{Na}}}}[{\\text{Na}}^{{+}}]_{{\\mathrm  {out}}}+P_{{{\\text{K}}}}[{\\text{K}}^{{+}}]_{{\\mathrm  {out}}}+P_{{{\\text{Cl}}}}[{\\text{Cl}}^{{-}}]_{{\\mathrm  {in}}}}{P_{{{\\text{Na}}}}[{\\text{Na}}^{{+}}]_{{\\mathrm  {in}}}+P_{{{\\text{K}}}}[{\\text{K}}^{{+}}]_{{{\\mathrm  {in}}}}+P_{{{\\text{Cl}}}}[{\\text{Cl}}^{{-}}]_{{\\mathrm  {out}}}}}\\right)}\n",
        "$$"
      ]
    },
    {
      "cell_type": "markdown",
      "id": "abda5872",
      "metadata": {
        "id": "abda5872"
      },
      "source": [
        "## 2.1 Steady state conditions across the membrane\n",
        "First, we implement the GHK equation to explore the resulting membrane potential. To this aim, we manipulate the ion's conductivities. When conductivities change, the membrane strives towards a new membrane potential.\n",
        "\n",
        "Aim of this exercise is to illustrate the 'working range' of the membrane potential that is available for a neuron.\n",
        "\n",
        "We define common standard values for the conductivities and concentrations:\n"
      ]
    },
    {
      "cell_type": "code",
      "execution_count": 3,
      "id": "f3d362e0",
      "metadata": {
        "ExecuteTime": {
          "end_time": "2022-01-15T16:10:18.814468Z",
          "start_time": "2022-01-15T16:10:18.808181Z"
        },
        "code_folding": [],
        "tags": [],
        "id": "f3d362e0"
      },
      "outputs": [],
      "source": [
        "# Common conductance values of a nerve fiber in the resting state\n",
        "g_Na_standard = 0.05\n",
        "g_K_standard = 1.0\n",
        "\n",
        "# Common values for ion concentrations (Arbitrary Units, the units cancel out in the GHK equation)\n",
        "Na_in_standard = 15\n",
        "Na_out_standard = 145\n",
        "K_in_standard = 140\n",
        "K_out_standard = 4"
      ]
    },
    {
      "cell_type": "markdown",
      "source": [
        "Next, we plot the membrane potential for different conductivities for Sodium and Potassium. Later, we change the concentrations of Potassium."
      ],
      "metadata": {
        "id": "oNBKMiMaPr17"
      },
      "id": "oNBKMiMaPr17"
    },
    {
      "cell_type": "code",
      "source": [
        "############################################## TODO ##############################################\n",
        "# The following values are plotted in the cell below.\n",
        "# YOUR TASK: Add more values to see how Vm changes.\n",
        "g_na_values = [0.05, 0.5]\n",
        "g_k_values = [1.0, 10]\n",
        "\n",
        "############################################## TODO ##############################################\n",
        "# The following values are plotted in the cell below.\n",
        "# YOUR TASK: Enable the plotting of lower Potassium concentration by removing the # in the line with 'Decreased K_in'.\n",
        "# Thereby you overwrite the standard values for the concentrations\n",
        "# When no values are given (with the #), the standard values are used\n",
        "Ion_Concentrations = [\n",
        "    {'label': 'Standard'\n",
        "    },\n",
        "    #{'label': 'Decreased K_in',     'K_in': 1,    },\n",
        "]"
      ],
      "metadata": {
        "id": "iS-ZnVas4V5R"
      },
      "id": "iS-ZnVas4V5R",
      "execution_count": 4,
      "outputs": []
    },
    {
      "cell_type": "markdown",
      "source": [
        "For plotting, run the next chunk of code"
      ],
      "metadata": {
        "id": "TBpmslID4oWh"
      },
      "id": "TBpmslID4oWh"
    },
    {
      "cell_type": "code",
      "execution_count": null,
      "id": "d2c61311",
      "metadata": {
        "ExecuteTime": {
          "end_time": "2022-01-15T16:07:47.074177Z",
          "start_time": "2022-01-15T16:07:47.069754Z"
        },
        "id": "d2c61311",
        "cellView": "form"
      },
      "outputs": [],
      "source": [
        "# @title\n",
        "##################################################################################################\n",
        "def vm_goldmann(g_Na=g_Na_standard,\n",
        "                g_K=g_K_standard,\n",
        "                Na_in=Na_in_standard,\n",
        "                Na_out=Na_out_standard,\n",
        "                K_in=K_in_standard,\n",
        "                K_out=K_out_standard):\n",
        "    \"\"\"The Goldman-Hodgkin-Katz equation.\n",
        "       input: Conductivities and concentrations in arbitrary units.\n",
        "       returns: Vm in volt.\"\"\"\n",
        "\n",
        "    # RT/F at room temperature\n",
        "    prefactor = 26.7e-3  # Volt\n",
        "\n",
        "    # the conductivity weighted concentration ratio sum\n",
        "    gc_ratio = (g_Na*Na_out + g_K * K_out)/(g_Na*Na_in + g_K * K_in)\n",
        "\n",
        "    # Return the transmembrane potential\n",
        "    vm = prefactor * np.log(gc_ratio)\n",
        "    return vm\n",
        "\n",
        "fig, axs = plt.subplots(1, 2, figsize=(9, 5))\n",
        "g_Na_list = np.array(g_na_values)\n",
        "g_K_list = np.array(g_k_values) #np.logspace(np.log10(1), 3)\n",
        "\n",
        "for Ion_Concentration in Ion_Concentrations:\n",
        "    label = Ion_Concentration.pop('label')\n",
        "    axs[0].plot(g_Na_list, 1e3*vm_goldmann(g_Na=g_Na_list, **Ion_Concentration), 'o', label=label)\n",
        "    axs[1].plot(g_K_list, 1e3*vm_goldmann(g_K=g_K_list, **Ion_Concentration), 'o', label=label)\n",
        "\n",
        "axs[0].semilogx()\n",
        "axs[0].set_ylabel(\"$V_m (mV)$\")\n",
        "axs[0].set_title(\"$V_m$ with increasing $g_{Na}$\")\n",
        "axs[0].set_xlabel(\"$g_{Na}$\")\n",
        "axs[0].set_ylim(-100, 100)\n",
        "axs[0].grid()\n",
        "axs[0].legend()\n",
        "\n",
        "axs[1].semilogx()\n",
        "axs[1].set_ylabel(\"$V_m (mV)$\")\n",
        "axs[1].set_title(\"$V_m$ with increasing $g_{K}$\")\n",
        "axs[1].set_xlabel(\"$g_{K}$\")\n",
        "axs[1].set_ylim(-100, 100)\n",
        "axs[1].grid()\n",
        "axs[1].legend()\n",
        "\n",
        "fig.tight_layout()"
      ]
    },
    {
      "cell_type": "markdown",
      "source": [
        "The graphs you created are informative to answer the questions on Ilias Assignment 1.2. Go back and forth to finish this task."
      ],
      "metadata": {
        "id": "WNK3dDo1fyi2"
      },
      "id": "WNK3dDo1fyi2"
    },
    {
      "cell_type": "markdown",
      "id": "35112dfb-e056-47c0-b280-2d8ed9b3f742",
      "metadata": {
        "ExecuteTime": {
          "end_time": "2022-01-15T16:07:49.186624Z",
          "start_time": "2022-01-15T16:07:48.858340Z"
        },
        "hide_input": false,
        "tags": [],
        "id": "35112dfb-e056-47c0-b280-2d8ed9b3f742"
      },
      "source": [
        "\n",
        "## 2.2 Range of the membrane potential, based on the GHK equation\n",
        "The ratio of Na/K conductivities can also be assessed as continuous plot."
      ]
    },
    {
      "cell_type": "code",
      "execution_count": null,
      "id": "9eb32c02-2f86-4272-82ff-a967b3093826",
      "metadata": {
        "ExecuteTime": {
          "end_time": "2022-01-15T16:07:49.186624Z",
          "start_time": "2022-01-15T16:07:48.858340Z"
        },
        "hide_input": false,
        "jupyter": {
          "source_hidden": true
        },
        "tags": [],
        "cellView": "form",
        "id": "9eb32c02-2f86-4272-82ff-a967b3093826"
      },
      "outputs": [],
      "source": [
        "# @title\n",
        "g_Na_list = np.logspace(-3, 3)\n",
        "g_ratio_list = g_Na_list/g_K_standard\n",
        "fig, ax = plt.subplots(1,1,figsize=(9,5))\n",
        "ax.plot(g_ratio_list, 1e3*vm_goldmann(g_Na=g_ratio_list))\n",
        "\n",
        "ax.semilogx()\n",
        "ax.set_ylabel(\"$V_m (mV)$\")\n",
        "ax.set_title(\"$V_m$ as a continous function of $g_{Na} / g_K$\")\n",
        "ax.grid()\n",
        "ax.set_xlabel(\"$g_{Na}/g_K$\");\n",
        "plt.show()"
      ]
    },
    {
      "cell_type": "markdown",
      "source": [
        "The sigmoidal curve obtained is based on combinations (ratios) of different conductivities for Sodium and Potassium. The resulting membrane potential is calculated on steady state condition described by the GHK equation. Since the conductivities for these two ions change systematically during an AP, we can use this curve to illustrate which part of the working range a neuron is using during an AP.\n",
        "\n",
        "Complete this task by downloading the graph and annotate it according to Ilias assignment 1.3."
      ],
      "metadata": {
        "id": "P9QECs_zulkH"
      },
      "id": "P9QECs_zulkH"
    },
    {
      "cell_type": "markdown",
      "id": "1d56c39e-9b3a-4f5a-9d8b-6bd0abf5a4f8",
      "metadata": {
        "ExecuteTime": {
          "end_time": "2022-01-15T16:51:50.434373Z",
          "start_time": "2022-01-15T16:51:46.248700Z"
        },
        "heading_collapsed": true,
        "hide_input": false,
        "tags": [],
        "id": "1d56c39e-9b3a-4f5a-9d8b-6bd0abf5a4f8"
      },
      "source": [
        "## 2.3 Time course of conductivities in the HH model"
      ]
    },
    {
      "cell_type": "markdown",
      "source": [
        "Up to now, we have used only the GHK equation. Now we use a model to that incorporates the Hodgkin-Huxley equation (in the *brian2* compartment model) and this allows us to describe the changing conductivities while an AP is generated.\n",
        "\n",
        "The aim is to illustrate the rapid and transient change of Sodium conductivity and the even shorter change in the Na/K ratio of conductivities.\n",
        "\n",
        "Note: An AP in the neuron is generated by a current injection somewhere and the AP is measured in several compartments away from that point (we later look at spreading of current in the neuron).\n",
        "\n",
        "Further information on the HH model: https://www.sas.upenn.edu/LabManuals/BBB251/NIA/NEUROLAB/APPENDIX/EQUAT.HH/equivcrt.htm"
      ],
      "metadata": {
        "id": "QXCTSLIT1_Gt"
      },
      "id": "QXCTSLIT1_Gt"
    },
    {
      "cell_type": "code",
      "execution_count": null,
      "id": "0a8fda92-1c42-4065-9c04-0db1a1f60dbe",
      "metadata": {
        "ExecuteTime": {
          "end_time": "2022-01-15T16:51:50.434373Z",
          "start_time": "2022-01-15T16:51:46.248700Z"
        },
        "hidden": true,
        "hide_input": false,
        "jupyter": {
          "source_hidden": true
        },
        "tags": [],
        "cellView": "form",
        "id": "0a8fda92-1c42-4065-9c04-0db1a1f60dbe"
      },
      "outputs": [],
      "source": [
        "# @title\n",
        "from scipy import stats\n",
        "\n",
        "start_scope()\n",
        "defaultclock.dt = 0.02*ms\n",
        "\n",
        "morpho = Cylinder(length=10*cm, diameter=2*238*um, n=100)\n",
        "\n",
        "El = 10.613*mV\n",
        "\n",
        "ENa = 120*mV\n",
        "EK = -40*mV\n",
        "\n",
        "gl = 0.4*msiemens/cm**2\n",
        "gNa0 = 120*msiemens/cm**2\n",
        "gK = 36*msiemens/cm**2\n",
        "\n",
        "# HH equations\n",
        "eqs = '''\n",
        "Im = gl * (El-v) + gNa * m**3 * h * (ENa-v) + gK * n**4 * (EK-v) : amp/meter**2\n",
        "I : amp (point current) # applied current\n",
        "dm/dt = alpham * (1-m) - betam * m : 1\n",
        "dn/dt = alphan * (1-n) - betan * n : 1\n",
        "dh/dt = alphah * (1-h) - betah * h : 1\n",
        "alpham = (0.1/mV) * 10.0*mV/exprel((-v+25.0*mV)/(10.0*mV))/ms : Hz\n",
        "betam = 4 * exp(-v/(18.0*mV))/ms : Hz\n",
        "alphah = 0.07 * exp(-v/(20.0*mV))/ms : Hz\n",
        "betah = 1/(exp((-v+30.0*mV) / (10.0*mV)) + 1)/ms : Hz\n",
        "alphan = (0.01/mV) * 10.0*mV/exprel((-v+10.0*mV)/(10.0*mV))/ms : Hz\n",
        "betan = 0.125*exp(-v/(80.0*mV))/ms : Hz\n",
        "gNa : siemens/meter**2\n",
        "gNaTotal = gNa * m**3 *h : siemens/meter**2\n",
        "gKTotal = gK * n**4 : siemens/meter**2\n",
        "'''\n",
        "\n",
        "neuron = SpatialNeuron(morphology=morpho, model=eqs, method=\"exponential_euler\",\n",
        "                       #refractory=\"m > 0.4\", threshold=\"m > 0.5\",\n",
        "                       Cm=1*uF/cm**2, Ri=35.4*ohm*cm)\n",
        "neuron.v = 0*mV\n",
        "neuron.h = 0.76264973\n",
        "neuron.m = 0.03339424\n",
        "neuron.n = 0.2619354\n",
        "neuron.I = 0*amp\n",
        "neuron.gNa = gNa0\n",
        "\n",
        "M = StateMonitor(neuron, ('v', 'gNaTotal', 'gKTotal'), record=[50])\n",
        "\n",
        "la = neuron.space_constant[0]\n",
        "print('------------------- Running simulation ---------------------')\n",
        "print(\"Length constante: %s\" % la.in_best_unit(2))\n",
        "print(\"Time constante:\", (neuron.Cm[0]/gl).in_best_unit(2))\n",
        "print('------------------------  Start ----------------------------')\n",
        "\n",
        "run(20*ms, report='text')\n",
        "#print(neuron.h)\n",
        "#print(neuron.n)\n",
        "#print(neuron.m)\n",
        "#1/0\n",
        "neuron.I[0] = 1*uA # current injection at one end\n",
        "run(3*ms)\n",
        "neuron.I = 0*amp\n",
        "run(30*ms, report='text')\n",
        "\n",
        "### add a plot with membrane potential during an AP\n",
        "fig, (ax1,ax2,ax3) = plt.subplots(3,1,figsize=(9,10), sharex=True)\n",
        "i = -1#50\n",
        "ax1.plot(M.t/ms, (M.v.T[:, i]-0*mV)/(mV))\n",
        "ax1.set_ylabel('membrane potential [mV]')\n",
        "#ax1.set_xlabel('time')\n",
        "ax1.set_title('Membrane potential during an AP')\n",
        "\n",
        "\n",
        "#fig, ax = plt.subplots(1,1,figsize=(9,5))\n",
        "i = -1#50\n",
        "gNatot = M.gNaTotal.T[:, i]\n",
        "ax2.plot(M.t/ms, M.gNaTotal.T[:, i]/(siemens/meter**2), label = '$g_{Na}$')\n",
        "ax2.plot(M.t/ms, M.gKTotal.T[:, i]/(siemens/meter**2), label = '$g_{K}$')\n",
        "ax2.set_ylabel('conductivity [siemens/m$^2$]')\n",
        "#ax2.set_xlabel('time')\n",
        "ax2.set_title('Changing conductivities of Sodium and Potassium during an AP')\n",
        "ax2.legend()\n",
        "\n",
        "\n",
        "\n",
        "#fig, ax = plt.subplots(1,1,figsize=(9,5))\n",
        "i = -1#50\n",
        "gNatot = M.gNaTotal.T[:, i]\n",
        "ax3.plot(M.t/ms, M.gNaTotal.T[:, i]/M.gKTotal.T[:, i], label = '$g_{Na}/g_{K}$')\n",
        "ax3.set_ylabel('Na/K ratio of conductivity')\n",
        "ax3.set_xlabel('time')\n",
        "ax3.set_title('Ratio of Sodium and Potassium conductivities during an AP')\n",
        "ax3.legend()\n"
      ]
    },
    {
      "cell_type": "markdown",
      "source": [
        "Inspect the three graphs. The first graph pretty much looks like an AP and is based on the *brian2* simulation of the Hodgkin-Huxley equation.\n",
        "\n",
        "The second graph depicts the underlying changes of conductivities that lead to the voltage changes across the membrane.\n",
        "\n",
        "The third graph illustrates the ratio of NA/K conductivities, a measure that is same to what we calculated before with the GHK equation.\n",
        "\n",
        "Take the readings of the graph and check how good it matches to the annotated graph you uploaded already on Ilias."
      ],
      "metadata": {
        "id": "BaJ9SOJYUgvG"
      },
      "id": "BaJ9SOJYUgvG"
    },
    {
      "cell_type": "markdown",
      "id": "4daf58a6",
      "metadata": {
        "id": "4daf58a6"
      },
      "source": [
        "# 3. Hodgkin-Huxley simulations"
      ]
    },
    {
      "cell_type": "markdown",
      "source": [
        "## 3.1 Propagation of an AP"
      ],
      "metadata": {
        "id": "iji2GgUK-4Rs"
      },
      "id": "iji2GgUK-4Rs"
    },
    {
      "cell_type": "markdown",
      "id": "91b5ff3b",
      "metadata": {
        "id": "91b5ff3b"
      },
      "source": [
        "An AP is a rapid and propagating change of the transmembrane potential. There are many models to describe such a process.\n",
        "The most famous one is the HH model, which is a very detailed purely electrical model.\n",
        "\n",
        "The HH model uses the GHK equation and describes the changing conductivities with\n",
        "voltage and time dependent expressions. Conceptually, the changing conductivities correspond to ion channels in real neurons.\n",
        "The full HH model contains more than 20 constant parameters and 3 internal variables (m, n, h) to account for the experimentally observed properties of neurons. The multitude of parameters allow the generation of very different APs (in shape and dynamics). However, some of the parameters such as the parameters m, n and h do not have direct correlates in a real neuron.\n",
        "\n",
        "The implementation of the HH model in a compartment model as in brian2 allows to study the propagation of AP.\n",
        "\n",
        "Aim of this exercise is to explore the influence of some of the parameters and neuron morphology on AP propagation velocity.\n",
        "\n",
        "The following code simuates a HH-model generated AP, calculates the propagation velocity and plots the AP at different positions along a (virtual) axon. The blue lines are with arbitrary standard values and in orange variations of the standard parameters are plotted."
      ]
    },
    {
      "cell_type": "markdown",
      "id": "dc632162",
      "metadata": {
        "id": "dc632162"
      },
      "source": [
        "In the following simulation, the axon (the compartments in the simulation) is almost half a millimeter thick and the resulting AP propagation velocity is rather disenchanting (around 12 m/s). Remember form the lecture, the leak current might influence the AP propagation velocity. We can change this leak current by decreasing $g_L$ drastically, as done below (in orange). A reduced leak current might be achieved by a myelinated axon in real neurons. Note, dividing $g_L$ by 2 would double the so called Electrotonic length or length constant $\\lambda$.\n",
        "\n",
        "Change the parameters below and observe the changes in the plot."
      ]
    },
    {
      "cell_type": "code",
      "execution_count": 9,
      "id": "818bcc48",
      "metadata": {
        "ExecuteTime": {
          "end_time": "2022-01-16T15:34:43.891120Z",
          "start_time": "2022-01-16T15:34:43.887779Z"
        },
        "tags": [],
        "id": "818bcc48"
      },
      "outputs": [],
      "source": [
        "# The following standard parameter sets are used for the blue lines.\n",
        "HH_parameters = [\n",
        "    {\n",
        "    'Cm': 1 * uF / cm**2,\n",
        "    'Ri': 35.4 * ohm * cm,\n",
        "    'gl': 0.4 * msiemens / cm**2,\n",
        "    'diameter': 2 * 238 * um,\n",
        "    'label': 'Standard'\n",
        "    },\n",
        "############################################## TODO ##############################################\n",
        "# The following parameter sets can be changed for exploration and are plotted in orange.\n",
        "    {\n",
        "    'Cm': 1 * uF / cm**2,\n",
        "    'Ri': 35.4 * ohm * cm,\n",
        "    'gl': 0.004 * msiemens / cm**2,\n",
        "    'diameter': 2 * 238 * um,\n",
        "    'label': 'no leak'\n",
        "    },\n",
        "##################################################################################################\n",
        "]"
      ]
    },
    {
      "cell_type": "code",
      "execution_count": null,
      "id": "6c497f35",
      "metadata": {
        "ExecuteTime": {
          "end_time": "2022-01-16T15:34:53.831436Z",
          "start_time": "2022-01-16T15:34:44.847561Z"
        },
        "code_folding": [],
        "hide_input": false,
        "jupyter": {
          "source_hidden": true
        },
        "tags": [],
        "cellView": "form",
        "id": "6c497f35"
      },
      "outputs": [],
      "source": [
        "# @title\n",
        "from scipy import stats\n",
        "\n",
        "fig, ax = plt.subplots(1,1, figsize=(9,5))\n",
        "\n",
        "for HH_parameter in HH_parameters:\n",
        "\n",
        "    Cm = HH_parameter['Cm']\n",
        "    Ri = HH_parameter['Ri']\n",
        "    gl = HH_parameter['gl']\n",
        "    diameter = HH_parameter['diameter']\n",
        "    label = HH_parameter['label']\n",
        "\n",
        "    start_scope()\n",
        "    defaultclock.dt = 0.05*ms\n",
        "\n",
        "    morpho = Cylinder(length=10*cm, diameter=diameter, n=500)\n",
        "\n",
        "    El = 10.613*mV\n",
        "    ENa = 115*mV\n",
        "    EK = -12*mV\n",
        "    gNa0 = 120*msiemens/cm**2\n",
        "    gK = 36*msiemens/cm**2\n",
        "    gl = gl\n",
        "\n",
        "    # HH equations\n",
        "    eqs = '''\n",
        "    Im = gl * (El-v) + gNa * m**3 * h * (ENa-v) + gK * n**4 * (EK-v) : amp/meter**2\n",
        "    I : amp (point current) # applied current\n",
        "    dm/dt = alpham * (1-m) - betam * m : 1\n",
        "    dn/dt = alphan * (1-n) - betan * n : 1\n",
        "    dh/dt = alphah * (1-h) - betah * h : 1\n",
        "    alpham = (0.1/mV) * 10.0*mV/exprel((-v+25.0*mV)/(10.0*mV))/ms : Hz\n",
        "    betam = 4 * exp(-v/(18.0*mV))/ms : Hz\n",
        "    alphah = 0.07 * exp(-v/(20.0*mV))/ms : Hz\n",
        "    betah = 1/(exp((-v+30.0*mV) / (10.0*mV)) + 1)/ms : Hz\n",
        "    alphan = (0.01/mV) * 10.0*mV/exprel((-v+10.0*mV)/(10.0*mV))/ms : Hz\n",
        "    betan = 0.125*exp(-v/(80.0*mV))/ms : Hz\n",
        "    gNa : siemens/meter**2\n",
        "    '''\n",
        "\n",
        "    neuron = SpatialNeuron(morphology=morpho, model=eqs, method=\"exponential_euler\",\n",
        "                           refractory=\"m > 0.4\", threshold=\"m > 0.5\",\n",
        "                           Cm=Cm, Ri=Ri)\n",
        "    neuron.v = 0*mV\n",
        "    neuron.h = 1\n",
        "    neuron.m = 0\n",
        "    neuron.n = .5\n",
        "    neuron.I = 0*amp\n",
        "    neuron.gNa = gNa0\n",
        "    M = StateMonitor(neuron, ('v', 'gNa'), record=True)\n",
        "    spikes = SpikeMonitor(neuron)\n",
        "\n",
        "\n",
        "    report=None\n",
        "    print('------------------- Running simulation ---------------------')\n",
        "    #la = neuron.space_constant[0]\n",
        "    #print(\"Init: Length constante: %s\" % la.in_best_unit(2))\n",
        "    #print(\"Init: Time constante:\", (neuron.Cm[0]/gl).in_best_unit(2))\n",
        "    run(20*ms, report=report)\n",
        "    la = neuron.space_constant[0]\n",
        "    print(\"Relaxed: Length constante: %s\" % la.in_best_unit(2))\n",
        "    print(\"Relaxed: Time constante:\", (neuron.Cm[0]/gl).in_best_unit(2))\n",
        "    neuron.I[0] = 3*uA # current injection at one end\n",
        "    #la = neuron.space_constant[0]\n",
        "    #print(\"Post stimulation: Length constante: %s\" % la.in_best_unit(2))\n",
        "    #print(\"Post stimulation: Time constante:\", (neuron.Cm[0]/gl).in_best_unit(2))\n",
        "    run(3*ms, report=report)\n",
        "    neuron.I = 0*amp\n",
        "    run(30*ms, report=report)\n",
        "\n",
        "    # Calculation of velocity\n",
        "    slope, intercept, r_value, p_value, std_err = stats.linregress(spikes.t/second,\n",
        "                                                    neuron.distance[spikes.i]/meter)\n",
        "    print('------------------------  Done  ----------------------------')\n",
        "    print(\"  Velocity = %.2f m/s\" % slope)\n",
        "\n",
        "    i = morpho.n//3\n",
        "    ln = ax.plot(M.t/ms, M.v[i,:]/mV,\n",
        "         label=label+' '+str(morpho.distance[i]-morpho.distance[0]))\n",
        "    i = 2*morpho.n//3\n",
        "    ax.plot(M.t/ms, M.v[i,:]/mV, '--', color=ln[0].get_color(),\n",
        "         label=label+' '+str(morpho.distance[i]-morpho.distance[0]))\n",
        "    legend(title='Position along the axon')\n",
        "    ylabel('Membrane potential (mV)')\n",
        "    xlabel('Time (ms)')"
      ]
    },
    {
      "cell_type": "markdown",
      "source": [
        "\n",
        "Maybe to your surprise, the AP propagation velocity is not much faster, even with a highly insulated axon.\n",
        "\n",
        "Calculate the relation of AP propagation velocity and the length constant ($\\lambda$).\n",
        "\n",
        "Complete the task in Ilias assignment 1.4 (AP propagation)."
      ],
      "metadata": {
        "id": "ggDuKtVzFUSM"
      },
      "id": "ggDuKtVzFUSM"
    },
    {
      "cell_type": "markdown",
      "id": "139ebca8",
      "metadata": {
        "ExecuteTime": {
          "end_time": "2022-01-16T15:36:04.866891Z",
          "start_time": "2022-01-16T15:36:04.863947Z"
        },
        "id": "139ebca8"
      },
      "source": [
        "## 3.2 Modulation of AP-shape with HH simulations\n",
        "\n",
        "John von Neuman once said:\n",
        "\n",
        "    Give me three parameters and I can Fit an Elephant, give me four and i can make him wiggle his trunk.\n",
        "\n",
        "The HH model allows shaping an AP in all kind of ways. How informative this is, depends on the experiment in real neurons to test hypotheses.\n",
        "One successful approach is to compare the effect of drugs on VGIC (voltage gated ion channels). Many toxins change the properties of VGICs. These toxins (drugs) are very useful in understanding the properties of ion channels, and also are investigated as potential therapeutic agents. The HH model is helpful to understand the effect of drugs on specific channels.\n",
        "\n",
        "Aim of this exercise is to manipulate one parameter that has strong impact on the shape of an AP. This parameter is also modulated in real neurons. After running the two parameter code-cells and the plot, identify in the parameter settings which parameter is different."
      ]
    },
    {
      "cell_type": "code",
      "source": [
        "# HH with standard parameters (plotted in blue)\n",
        "\n",
        "HH_parameter = {\n",
        "    'Cm': 1 * uF / cm**2,\n",
        "    'Ri': 35.4 * ohm * cm,\n",
        "    'gl': 0.4 * msiemens / cm**2,\n",
        "    'diameter': 2 * 238 * um,\n",
        "    'label': 'Standard'\n",
        "}\n",
        "Cm = HH_parameter['Cm']\n",
        "Ri = HH_parameter['Ri']\n",
        "gl = HH_parameter['gl']\n",
        "diameter = HH_parameter['diameter']\n",
        "label = HH_parameter['label']\n",
        "\n",
        "\n",
        "defaultclock.dt = 0.05 * ms\n",
        "\n",
        "morpho = Cylinder(length=10 * cm, diameter=diameter, n=500)\n",
        "\n",
        "El = 10.613 * mV\n",
        "ENa = 115 * mV\n",
        "EK = -40 * mV\n",
        "gNa0 = 120 * msiemens / cm**2\n",
        "gK = 36 * msiemens / cm**2\n",
        "gl = gl"
      ],
      "metadata": {
        "id": "REaZJMSx0llb"
      },
      "id": "REaZJMSx0llb",
      "execution_count": 11,
      "outputs": []
    },
    {
      "cell_type": "code",
      "execution_count": null,
      "id": "7f7e4440",
      "metadata": {
        "ExecuteTime": {
          "end_time": "2022-01-16T15:58:45.982987Z",
          "start_time": "2022-01-16T15:58:45.354384Z"
        },
        "jupyter": {
          "source_hidden": true
        },
        "tags": [],
        "cellView": "form",
        "id": "7f7e4440"
      },
      "outputs": [],
      "source": [
        "# @title\n",
        "# HH code with standard parameters\n",
        "\n",
        "\n",
        "# HH equations\n",
        "eqs = '''\n",
        "Im = gl * (El-v) + gNa * m**3 * h * (ENa-v) + gK * n**4 * (EK-v) : amp/meter**2\n",
        "I : amp (point current) # applied current\n",
        "dm/dt = alpham * (1-m) - betam * m : 1\n",
        "dn/dt = alphan * (1-n) - betan * n : 1\n",
        "dh/dt = alphah * (1-h) - betah * h : 1\n",
        "alpham = (0.1/mV) * 10.0*mV/exprel((-v+25.0*mV)/(10.0*mV))/ms : Hz\n",
        "betam = 4 * exp(-v/(18.0*mV))/ms : Hz\n",
        "alphah = 0.07 * exp(-v/(20.0*mV))/ms : Hz\n",
        "betah = 1/(exp((-v+30.0*mV) / (10.0*mV)) + 1)/ms : Hz\n",
        "alphan = (0.01/mV) * 10.0*mV/exprel((-v+10.0*mV)/(10.0*mV))/ms : Hz\n",
        "betan = 0.125*exp(-v/(80.0*mV))/ms : Hz\n",
        "gNa : siemens/meter**2\n",
        "'''\n",
        "start_scope()\n",
        "neuron = SpatialNeuron(morphology=morpho,\n",
        "                       model=eqs,\n",
        "                       method=\"exponential_euler\",\n",
        "                       refractory=\"m > 0.4\",\n",
        "                       threshold=\"m > 0.5\",\n",
        "                       Cm=Cm,\n",
        "                       Ri=Ri)\n",
        "neuron.v = 0 * mV\n",
        "neuron.h = 1\n",
        "neuron.m = 0\n",
        "neuron.n = .5\n",
        "neuron.I = 0 * amp\n",
        "neuron.gNa = gNa0\n",
        "M = StateMonitor(neuron, ('v', 'gNa'), record=True)\n",
        "spikes = SpikeMonitor(neuron)\n",
        "\n",
        "la = neuron.space_constant[0]\n",
        "print('------------------- Running simulation ---------------------')\n",
        "print(\"Length constante: %s\" % la.in_best_unit(2))\n",
        "print(\"Time constante:\", (neuron.Cm[0] / gl).in_best_unit(2))\n",
        "print('------------------------  Start ----------------------------')\n",
        "\n",
        "run(20 * ms, report='text')\n",
        "neuron.I[0] = 3 * uA  # current injection at one end\n",
        "run(3 * ms)\n",
        "la = neuron.space_constant[0]\n",
        "print(\"Length constante: %s\" % la.in_best_unit(2))\n",
        "neuron.I = 0 * amp\n",
        "run(30 * ms, report='text')"
      ]
    },
    {
      "cell_type": "code",
      "source": [
        "# HH  with modified parameters (plotted in orange)\n",
        "\n",
        "HH_parameter = {\n",
        "    'Cm': 1 * uF / cm**2,\n",
        "    'Ri': 35.4 * ohm * cm,\n",
        "    'gl': 0.4 * msiemens / cm**2,\n",
        "    'diameter': 2 * 238 * um,\n",
        "    'label': 'Standard'\n",
        "}\n",
        "Cm = HH_parameter['Cm']\n",
        "Ri = HH_parameter['Ri']\n",
        "gl = HH_parameter['gl']\n",
        "diameter = HH_parameter['diameter']\n",
        "label = HH_parameter['label']\n",
        "\n",
        "start_scope()\n",
        "defaultclock.dt = 0.05 * ms\n",
        "\n",
        "morpho = Cylinder(length=10 * cm, diameter=diameter, n=500)\n",
        "\n",
        "El = 10.613 * mV\n",
        "ENa = 115 * mV\n",
        "EK = -40 * mV\n",
        "gNa0 = 120 * msiemens / cm**2\n",
        "gK = 9 * msiemens / cm**2\n",
        "gl = gl"
      ],
      "metadata": {
        "id": "6YMLQvBh057T"
      },
      "id": "6YMLQvBh057T",
      "execution_count": 13,
      "outputs": []
    },
    {
      "cell_type": "code",
      "execution_count": null,
      "id": "a8c3d0aa",
      "metadata": {
        "ExecuteTime": {
          "end_time": "2022-01-16T16:20:08.997954Z",
          "start_time": "2022-01-16T16:20:08.152382Z"
        },
        "jupyter": {
          "source_hidden": true
        },
        "tags": [],
        "cellView": "form",
        "id": "a8c3d0aa"
      },
      "outputs": [],
      "source": [
        "# @title\n",
        "# HH code with modified parameters\n",
        "\n",
        "# HH equations\n",
        "eqs = '''\n",
        "Im = gl * (El-v) + gNa * m**3 * h * (ENa-v) + gK * n**4 * (EK-v) : amp/meter**2\n",
        "I : amp (point current) # applied current\n",
        "dm/dt = alpham * (1-m) - betam * m : 1\n",
        "dn/dt = alphan * (1-n) - betan * n : 1\n",
        "dh/dt = alphah * (1-h) - betah * h : 1\n",
        "alpham = (0.1/mV) * 10.0*mV/exprel((-v+25.0*mV)/(10.0*mV))/ms : Hz\n",
        "betam = 4 * exp(-v/(18.0*mV))/ms : Hz\n",
        "alphah = 0.07 * exp(-v/(20.0*mV))/ms : Hz\n",
        "betah = 1/(exp((-v+30.0*mV) / (10.0*mV)) + 1)/ms : Hz\n",
        "alphan = (0.01/mV) * 10.0*mV/exprel((-v+10.0*mV)/(10.0*mV))/ms : Hz\n",
        "betan = 0.125*exp(-v/(80.0*mV))/ms : Hz\n",
        "gNa : siemens/meter**2\n",
        "'''\n",
        "\n",
        "neuron = SpatialNeuron(morphology=morpho,\n",
        "                       model=eqs,\n",
        "                       method=\"exponential_euler\",\n",
        "                       refractory=\"m > 0.4\",\n",
        "                       threshold=\"m > 0.5\",\n",
        "                       Cm=Cm,\n",
        "                       Ri=Ri)\n",
        "neuron.v = 0 * mV\n",
        "neuron.h = 1\n",
        "neuron.m = 0\n",
        "neuron.n = .5\n",
        "neuron.I = 0 * amp\n",
        "neuron.gNa = gNa0\n",
        "M_drugged = StateMonitor(neuron, ('v', 'gNa'), record=True)\n",
        "spikes = SpikeMonitor(neuron)\n",
        "\n",
        "la = neuron.space_constant[0]\n",
        "print('------------------- Running simulation ---------------------')\n",
        "print(\"Length constante: %s\" % la.in_best_unit(2))\n",
        "print(\"Time constante:\", (neuron.Cm[0] / gl).in_best_unit(2))\n",
        "print('------------------------  Start ----------------------------')\n",
        "\n",
        "run(20 * ms, report='text')\n",
        "neuron.I[0] = 3 * uA  # current injection at one end\n",
        "run(3 * ms)\n",
        "la = neuron.space_constant[0]\n",
        "print(\"Length constante: %s\" % la.in_best_unit(2))\n",
        "neuron.I = 0 * amp\n",
        "run(30 * ms, report='text')"
      ]
    },
    {
      "cell_type": "markdown",
      "source": [
        "Plotting the two"
      ],
      "metadata": {
        "id": "35gNJAI11K65"
      },
      "id": "35gNJAI11K65"
    },
    {
      "cell_type": "code",
      "execution_count": null,
      "id": "a06bacbe",
      "metadata": {
        "ExecuteTime": {
          "end_time": "2022-01-16T16:18:24.170557Z",
          "start_time": "2022-01-16T16:18:24.048314Z"
        },
        "jupyter": {
          "source_hidden": true
        },
        "tags": [],
        "cellView": "form",
        "id": "a06bacbe"
      },
      "outputs": [],
      "source": [
        "# @title\n",
        "fig, ax = plt.subplots(1,1)\n",
        "\n",
        "# Normal\n",
        "i = morpho.n//3\n",
        "imax = np.argmax(M.v[i,:])\n",
        "ln = ax.plot((M.t-M.t[imax])/ms, M.v[i,:]/mV,\n",
        "     label='Normal')\n",
        "legend(title='Position along the axon')\n",
        "ylabel('Membrane potential (mV)')\n",
        "xlabel('Time (ms)')\n",
        "\n",
        "\n",
        "# Drug applied\n",
        "i = morpho.n//3\n",
        "\n",
        "imax = np.argmax(M_drugged.v[i,:])\n",
        "ln = ax.plot((M_drugged.t-M_drugged.t[imax])/ms, M_drugged.v[i,:]/mV,\n",
        "     label='Drug applied')\n",
        "legend()\n",
        "ylabel('Membrane potential (mV)')\n",
        "xlabel('Time (ms)')\n",
        "\n",
        "ax.set_xlim(-5, 10)"
      ]
    },
    {
      "cell_type": "markdown",
      "id": "354c38c7",
      "metadata": {
        "hide_input": true,
        "id": "354c38c7"
      },
      "source": [
        "# 4. Current injection into a passive cable"
      ]
    },
    {
      "cell_type": "markdown",
      "id": "60a0ce7e",
      "metadata": {
        "id": "60a0ce7e"
      },
      "source": [
        "What happens when current is injected in a thin nerve fiber, how does the current spread?\n",
        "\n",
        "When current is injected into a neuron, mimicking the inflow of sodium, current flows inside and across the membrane.\n",
        "\n",
        "[THINK: Why is a current injection similar to an action potential?]\n",
        "\n",
        "Due to electroneutrality, a current loop is formed. For a computational simulation of the current flow, an axon can be described by a series of identical compartments, and each compartment is represented by an equivalent circuit, shown below. The resistivity of the axoplasm is called Rho (𝜌𝑖). The membrane has the material-specific conductivity 𝑔𝑚 and capacity 𝑐𝑚. The geometry of the compartment is given by its diameter 𝑑 and length 𝐿."
      ]
    },
    {
      "cell_type": "markdown",
      "source": [
        "![cable_model.png](data:image/png;base64,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)"
      ],
      "metadata": {
        "id": "n3GFWvngoBlB"
      },
      "id": "n3GFWvngoBlB"
    },
    {
      "cell_type": "markdown",
      "source": [
        "## 4.1 Current is generating changes in membrane potential\n",
        "We use the brian2 simulation as before but without the implementation of the HH equations. Thus, only the cable properties are investigated.\n",
        "\n",
        "In the following code, current is injected at one end of a finite (not infinite) passive fiber. The two prepared code-cells are comparing changes in membrane potential (depolarization) along the axon, first with different leak currents and the second code-cell with different membrane capacity.\n",
        "\n",
        "You can change the pair of parameters in the code directly (line 4, in the for loop) if you would like to explore further.\n",
        "\n",
        "**Pair of different gL**"
      ],
      "metadata": {
        "id": "fz5Cf7ZXnozn"
      },
      "id": "fz5Cf7ZXnozn"
    },
    {
      "cell_type": "code",
      "source": [
        "# @title\n",
        "############################################## TODO ##############################################\n",
        "# The following parameter pairs are used in the simulation below.\n",
        "# Change the pair of values in the for loop, here for gL.\n",
        "fig, ax = plt.subplots(1,1, figsize=(9, 5))\n",
        "for gL in [1e-4*siemens/cm**2, 0.5e-4*siemens/cm**2]:\n",
        " label = gL.in_best_unit()\n",
        " Cm = 1*uF/cm**2\n",
        " diameter = 1*um\n",
        " ##################################################################################################\n",
        "\n",
        " # Morphology\n",
        " length = 2*mm\n",
        " Ri = 150*ohm*cm\n",
        " N = 200\n",
        "\n",
        " # Passive channels\n",
        " EL = -70*mV\n",
        " eqs = '''\n",
        " Im = gL * (EL - v) : amp/meter**2\n",
        " I : amp (point current)\n",
        " '''\n",
        "\n",
        " start_scope()\n",
        " defaultclock.dt = 0.1*ms\n",
        " morpho = Cylinder(diameter=diameter, length=length, n=N)\n",
        "\n",
        " neuron = SpatialNeuron(morphology=morpho, model=eqs, Cm=Cm, Ri=Ri,\n",
        "                       method='exponential_euler')\n",
        " neuron.v = EL\n",
        " M = StateMonitor(neuron, 'v', record=[0, 39])\n",
        "\n",
        "\n",
        " print(\"%s:\" % label)\n",
        " print(\"Cm =\", Cm.in_best_unit(3))\n",
        " print(\"gL =\", gL)\n",
        "\n",
        " la = neuron.space_constant[0]\n",
        " print(\"Length constant = %s\" % la.in_best_unit(2))\n",
        " print(\"Length constant (theory) = %s\" % (sqrt(1/(gL*pi*diameter*Ri/(pi*(diameter/2)**2))).in_best_unit(2)))\n",
        " print(\"Time constant = %s\" % (Cm/gL).in_best_unit(2))\n",
        "\n",
        " # Currrent injection at one end\n",
        " neuron.I[0] = 0.02*nA\n",
        "\n",
        " # Running an plotting\n",
        " report = None\n",
        " run(.5*ms, report=report)\n",
        " run(4.5*ms, report=report)\n",
        " run(45*ms, report=report)\n",
        "\n",
        " ln = ax.plot(M.t/ms, M.v.T[:, 0]/mV, '-',\n",
        "             label=label+' '+str(neuron.morphology.distance[M.record[0]].in_best_unit(2)))\n",
        " ax.plot(M.t/ms, M.v.T[:, 1]/mV, '--', color=ln[0].get_color(),\n",
        "         label=label+' '+str(neuron.morphology.distance[M.record[1]].in_best_unit(2)))\n",
        "\n",
        "\n",
        "ax.legend(title=\"Position along the axon x (mm)\",\n",
        "         loc=\"best\", ncol=2)  # , label=x[M.record])\n",
        "ax.set_xlabel('Time since beginning of current injection (ms)')\n",
        "ax.set_ylabel('Membrane potential $V_m(x, t)$ (mV)')\n",
        "fig.tight_layout()\n",
        "\n",
        "fig.show()"
      ],
      "metadata": {
        "cellView": "form",
        "id": "CSJL0khakMWT"
      },
      "id": "CSJL0khakMWT",
      "execution_count": null,
      "outputs": []
    },
    {
      "cell_type": "markdown",
      "source": [
        "**Pair of different Cm**"
      ],
      "metadata": {
        "id": "qtWVTa4MmXSu"
      },
      "id": "qtWVTa4MmXSu"
    },
    {
      "cell_type": "code",
      "source": [
        "# @title\n",
        "############################################## TODO ##############################################\n",
        "# The following parameter pairs are used in the simulation below.\n",
        "# Change the pair of values in the for loop, here for Cm.\n",
        "fig, ax = plt.subplots(1,1, figsize=(9, 5))\n",
        "for Cm in [1*uF/cm**2, 2*uF/cm**2]:\n",
        " label = Cm.in_best_unit()\n",
        " gL = 1e-4*siemens/cm**2\n",
        "\n",
        " ##################################################################################################\n",
        "\n",
        " # Morphology\n",
        " length = 2*mm\n",
        " Ri = 150*ohm*cm\n",
        " N = 200\n",
        "\n",
        " # Passive channels\n",
        " EL = -70*mV\n",
        " eqs = '''\n",
        " Im = gL * (EL - v) : amp/meter**2\n",
        " I : amp (point current)\n",
        " '''\n",
        "\n",
        " start_scope()\n",
        " defaultclock.dt = 0.1*ms\n",
        " morpho = Cylinder(diameter=diameter, length=length, n=N)\n",
        "\n",
        " neuron = SpatialNeuron(morphology=morpho, model=eqs, Cm=Cm, Ri=Ri,\n",
        "                       method='exponential_euler')\n",
        " neuron.v = EL\n",
        " M = StateMonitor(neuron, 'v', record=[0, 39])\n",
        "\n",
        "\n",
        " print(\"%s:\" % label)\n",
        " print(\"Cm =\", Cm.in_best_unit(3))\n",
        " print(\"gL =\", gL)\n",
        "\n",
        " la = neuron.space_constant[0]\n",
        " print(\"Length constant = %s\" % la.in_best_unit(2))\n",
        " print(\"Length constant (theory) = %s\" % (sqrt(1/(gL*pi*diameter*Ri/(pi*(diameter/2)**2))).in_best_unit(2)))\n",
        " print(\"Time constant = %s\" % (Cm/gL).in_best_unit(2))\n",
        "\n",
        " # Currrent injection at one end\n",
        " neuron.I[0] = 0.02*nA\n",
        "\n",
        " # Running an plotting\n",
        " report = None\n",
        " run(.5*ms, report=report)\n",
        " run(4.5*ms, report=report)\n",
        " run(45*ms, report=report)\n",
        "\n",
        " ln = ax.plot(M.t/ms, M.v.T[:, 0]/mV, '-',\n",
        "             label=label+' '+str(neuron.morphology.distance[M.record[0]].in_best_unit(2)))\n",
        " ax.plot(M.t/ms, M.v.T[:, 1]/mV, '--', color=ln[0].get_color(),\n",
        "         label=label+' '+str(neuron.morphology.distance[M.record[1]].in_best_unit(2)))\n",
        "\n",
        "\n",
        "ax.legend(title=\"Position along the axon x (mm)\",\n",
        "         loc=\"best\", ncol=2)  # , label=x[M.record])\n",
        "ax.set_xlabel('Time since beginning of current injection (ms)')\n",
        "ax.set_ylabel('Membrane potential $V_m(x, t)$ (mV)')\n",
        "fig.tight_layout()\n",
        "\n",
        "fig.show()"
      ],
      "metadata": {
        "cellView": "form",
        "id": "feESLtlhkrFZ"
      },
      "id": "feESLtlhkrFZ",
      "execution_count": null,
      "outputs": []
    },
    {
      "cell_type": "markdown",
      "source": [
        "Describe in your own words what the two graphs are showing before you complete the task in Ilias assignment 1.5 (spread of current)"
      ],
      "metadata": {
        "id": "EIUGg2WOmmNL"
      },
      "id": "EIUGg2WOmmNL"
    },
    {
      "cell_type": "markdown",
      "id": "8c1270b9-4ac7-4817-8899-12d5d606c6ad",
      "metadata": {
        "id": "8c1270b9-4ac7-4817-8899-12d5d606c6ad"
      },
      "source": [
        "# 5. Supplementary material:"
      ]
    },
    {
      "cell_type": "markdown",
      "id": "6158bcfc-bdf1-4c3e-b2cd-17c6121772f4",
      "metadata": {
        "heading_collapsed": true,
        "id": "6158bcfc-bdf1-4c3e-b2cd-17c6121772f4"
      },
      "source": [
        "## Analytic expression for the velocity\n",
        "The effective $g^\\star$ is around a third of the peak value of $g_{Na}$"
      ]
    },
    {
      "cell_type": "code",
      "execution_count": null,
      "id": "51c75106",
      "metadata": {
        "colab": {
          "base_uri": "https://localhost:8080/",
          "height": 36
        },
        "id": "51c75106",
        "outputId": "20e1f81d-c087-4663-9238-ddedacae1aab"
      },
      "outputs": [
        {
          "output_type": "execute_result",
          "data": {
            "text/plain": [
              "'12.9 m s^-1'"
            ],
            "application/vnd.google.colaboratory.intrinsic+json": {
              "type": "string"
            }
          },
          "metadata": {},
          "execution_count": 51
        }
      ],
      "source": [
        "Cm = 1 * uF/cm**2\n",
        "diameter = 238*2*um\n",
        "Ri = 36*ohm*cm\n",
        "gstar = 100*siemens/meter**2\n",
        "\n",
        "v_p = (1/(Cm)) * sqrt(diameter * gstar/(8*Ri))\n",
        "v_p.in_best_unit(1)"
      ]
    },
    {
      "cell_type": "markdown",
      "id": "8c9ab858-7ef1-446e-9234-3f783c74b251",
      "metadata": {
        "heading_collapsed": true,
        "id": "8c9ab858-7ef1-446e-9234-3f783c74b251"
      },
      "source": [
        "## The conductivities and corresponding Goldman equilibrium\n",
        "\n",
        "The following section is just a demonstration how the above provided plots are generated. Understanding the following sections is not part of the Couse."
      ]
    },
    {
      "cell_type": "code",
      "execution_count": null,
      "id": "78f27362",
      "metadata": {
        "ExecuteTime": {
          "end_time": "2022-01-15T16:51:50.434373Z",
          "start_time": "2022-01-15T16:51:46.248700Z"
        },
        "hidden": true,
        "hide_input": false,
        "jupyter": {
          "source_hidden": true
        },
        "tags": [],
        "id": "78f27362",
        "colab": {
          "base_uri": "https://localhost:8080/",
          "height": 629
        },
        "outputId": "4b7faff9-0fa8-4c78-d416-a52820dfbfbd"
      },
      "outputs": [
        {
          "output_type": "stream",
          "name": "stdout",
          "text": [
            "------------------- Running simulation ---------------------\n",
            "Length constante: 3.56 mm\n",
            "Time constante: 2.5 ms\n",
            "------------------------  Start ----------------------------\n",
            "Starting simulation at t=0. s for a duration of 20. ms\n",
            "20. ms (100%) simulated in < 1s\n",
            "Starting simulation at t=23. ms for a duration of 30. ms\n",
            "30. ms (100%) simulated in < 1s\n"
          ]
        },
        {
          "output_type": "execute_result",
          "data": {
            "text/plain": [
              "<matplotlib.legend.Legend at 0x7b9fdbc81b90>"
            ]
          },
          "metadata": {},
          "execution_count": 52
        },
        {
          "output_type": "display_data",
          "data": {
            "text/plain": [
              "<Figure size 900x500 with 1 Axes>"
            ],
            "image/png": "[encoded data removed]"
          },
          "metadata": {}
        }
      ],
      "source": [
        "from scipy import stats\n",
        "\n",
        "start_scope()\n",
        "defaultclock.dt = 0.02*ms\n",
        "\n",
        "morpho = Cylinder(length=10*cm, diameter=2*238*um, n=100)\n",
        "\n",
        "El = 10.613*mV\n",
        "\n",
        "ENa = 115*mV\n",
        "EK = -12*mV\n",
        "\n",
        "gl = 0.4*msiemens/cm**2\n",
        "gNa0 = 120*msiemens/cm**2\n",
        "gK = 36*msiemens/cm**2\n",
        "\n",
        "# HH equations\n",
        "eqs = '''\n",
        "Im = gl * (El-v) + gNa * m**3 * h * (ENa-v) + gK * n**4 * (EK-v) : amp/meter**2\n",
        "I : amp (point current) # applied current\n",
        "dm/dt = alpham * (1-m) - betam * m : 1\n",
        "dn/dt = alphan * (1-n) - betan * n : 1\n",
        "dh/dt = alphah * (1-h) - betah * h : 1\n",
        "alpham = (0.1/mV) * 10.0*mV/exprel((-v+25.0*mV)/(10.0*mV))/ms : Hz\n",
        "betam = 4 * exp(-v/(18.0*mV))/ms : Hz\n",
        "alphah = 0.07 * exp(-v/(20.0*mV))/ms : Hz\n",
        "betah = 1/(exp((-v+30.0*mV) / (10.0*mV)) + 1)/ms : Hz\n",
        "alphan = (0.01/mV) * 10.0*mV/exprel((-v+10.0*mV)/(10.0*mV))/ms : Hz\n",
        "betan = 0.125*exp(-v/(80.0*mV))/ms : Hz\n",
        "gNa : siemens/meter**2\n",
        "gNaTotal = gNa * m**3 *h : siemens/meter**2\n",
        "gKTotal = gK * n**4 : siemens/meter**2\n",
        "'''\n",
        "\n",
        "neuron = SpatialNeuron(morphology=morpho, model=eqs, method=\"exponential_euler\",\n",
        "                       #refractory=\"m > 0.4\", threshold=\"m > 0.5\",\n",
        "                       Cm=1*uF/cm**2, Ri=35.4*ohm*cm)\n",
        "neuron.v = 0*mV\n",
        "neuron.h = 1\n",
        "neuron.m = 0\n",
        "neuron.n = .5\n",
        "neuron.I = 0*amp\n",
        "neuron.gNa = gNa0\n",
        "\n",
        "M = StateMonitor(neuron, ('v', 'gNaTotal', 'gKTotal'), record=[50])\n",
        "\n",
        "la = neuron.space_constant[0]\n",
        "print('------------------- Running simulation ---------------------')\n",
        "print(\"Length constante: %s\" % la.in_best_unit(2))\n",
        "print(\"Time constante:\", (neuron.Cm[0]/gl).in_best_unit(2))\n",
        "print('------------------------  Start ----------------------------')\n",
        "\n",
        "run(20*ms, report='text')\n",
        "neuron.I[0] = 1*uA # current injection at one end\n",
        "run(3*ms)\n",
        "neuron.I = 0*amp\n",
        "run(30*ms, report='text')\n",
        "\n",
        "\n",
        "fig, ax = plt.subplots(1,1,figsize=(9,5))\n",
        "i = 0#50\n",
        "gNatot = M.gNaTotal.T[:, i]\n",
        "ax.plot(M.t/ms, M.gNaTotal.T[:, i]/(siemens/meter**2), label = '$g_{Na}$')\n",
        "ax.plot(M.t/ms, M.gKTotal.T[:, i]/(siemens/meter**2), label = '$g_{K}$')\n",
        "ax.set_ylabel('conductivity [siemens/m$^2$]')\n",
        "ax.set_xlabel('time')\n",
        "ax.legend()"
      ]
    },
    {
      "cell_type": "code",
      "execution_count": null,
      "id": "f93e565c",
      "metadata": {
        "ExecuteTime": {
          "end_time": "2022-01-15T16:52:01.426982Z",
          "start_time": "2022-01-15T16:52:01.421350Z"
        },
        "hidden": true,
        "hide_input": true,
        "jupyter": {
          "source_hidden": true
        },
        "tags": [],
        "id": "f93e565c"
      },
      "outputs": [],
      "source": [
        "prefactor = 26.7e-3 * volt\n",
        "K_out_HH = K_in_standard *exp(-12*mV/prefactor )\n",
        "#vm_goldmann(g_K=1e99, K_out=K_out_HH)*volt\n",
        "Na_out_HH = Na_in_standard *exp(115*mV/prefactor )\n",
        "#vm_goldmann(g_Na=1e99, Na_out=Na_out_HH)*volt"
      ]
    },
    {
      "cell_type": "code",
      "execution_count": null,
      "id": "56f26a17",
      "metadata": {
        "ExecuteTime": {
          "end_time": "2022-01-15T16:52:02.682059Z",
          "start_time": "2022-01-15T16:52:02.419802Z"
        },
        "hidden": true,
        "hide_input": true,
        "jupyter": {
          "source_hidden": true
        },
        "tags": [],
        "id": "56f26a17",
        "colab": {
          "base_uri": "https://localhost:8080/",
          "height": 507
        },
        "outputId": "b707208b-5246-4404-a613-f920f905487b"
      },
      "outputs": [
        {
          "output_type": "display_data",
          "data": {
            "text/plain": [
              "<Figure size 900x500 with 2 Axes>"
            ],
            "image/png": "[encoded data removed]"
          },
          "metadata": {}
        }
      ],
      "source": [
        "fig, axs = plt.subplots(2, 1, figsize=(9, 5), sharex=True)\n",
        "i = 0#50\n",
        "gNatot = M.gNaTotal.T[:, i]\n",
        "axs[0].plot(M.t/ms, M.gNaTotal.T[:, i]/(siemens/meter**2), label = '$g_{Na}$')\n",
        "axs[0].plot(M.t/ms, M.gKTotal.T[:, i]/(siemens/meter**2), label = '$g_{K}$')\n",
        "\n",
        "axs[0].set_ylabel('conductivity [siemens/m$^2$]')\n",
        "axs[0].set_xlabel('time')\n",
        "axs[0].legend()\n",
        "\n",
        "axs[1].plot(M.t/ms, M.v.T[:, i]/mV, label='Membrane potential')\n",
        "axs[1].plot(M.t/ms, vm_goldmann(g_Na=M.gNaTotal.T[:, i],\n",
        "                                g_K=M.gKTotal.T[:, i],\n",
        "                                Na_out=Na_out_HH,\n",
        "                                K_out=K_out_HH,\n",
        "                                )/mV, label = 'Goldman equilibrium (leak-free)')\n",
        "\n",
        "axs[1].set_ylabel('Potential [mV]')\n",
        "axs[1].set_xlabel('time')\n",
        "axs[1].legend()\n",
        "fig.tight_layout()"
      ]
    },
    {
      "cell_type": "code",
      "execution_count": null,
      "id": "6a4b238b",
      "metadata": {
        "hidden": true,
        "id": "6a4b238b"
      },
      "outputs": [],
      "source": []
    }
  ],
  "metadata": {
    "hide_input": false,
    "kernelspec": {
      "display_name": "Python 3",
      "language": "python",
      "name": "python3"
    },
    "language_info": {
      "codemirror_mode": {
        "name": "ipython",
        "version": 3
      },
      "file_extension": ".py",
      "mimetype": "text/x-python",
      "name": "python",
      "nbconvert_exporter": "python",
      "pygments_lexer": "ipython3",
      "version": "3.8.8"
    },
    "toc": {
      "base_numbering": 1,
      "nav_menu": {},
      "number_sections": false,
      "sideBar": true,
      "skip_h1_title": false,
      "title_cell": "Table of Contents",
      "title_sidebar": "Contents",
      "toc_cell": false,
      "toc_position": {
        "height": "calc(100% - 180px)",
        "left": "10px",
        "top": "150px",
        "width": "384px"
      },
      "toc_section_display": true,
      "toc_window_display": true
    },
    "varInspector": {
      "cols": {
        "lenName": 16,
        "lenType": 16,
        "lenVar": 40
      },
      "kernels_config": {
        "python": {
          "delete_cmd_postfix": "",
          "delete_cmd_prefix": "del ",
          "library": "var_list.py",
          "varRefreshCmd": "print(var_dic_list())"
        },
        "r": {
          "delete_cmd_postfix": ") ",
          "delete_cmd_prefix": "rm(",
          "library": "var_list.r",
          "varRefreshCmd": "cat(var_dic_list()) "
        }
      },
      "types_to_exclude": [
        "module",
        "function",
        "builtin_function_or_method",
        "instance",
        "_Feature"
      ],
      "window_display": false
    },
    "colab": {
      "provenance": [],
      "toc_visible": true,
      "include_colab_link": true
    }
  },
  "nbformat": 4,
  "nbformat_minor": 5
}