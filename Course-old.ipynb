{
 "cells": [
  {
   "cell_type": "markdown",
   "id": "82de8dd4",
   "metadata": {},
   "source": [
    "# Goldman equation"
   ]
  },
  {
   "cell_type": "markdown",
   "id": "b102457e",
   "metadata": {},
   "source": [
    "The transmembrane potential of a semipermeable membrane is dependent on the concentration [X] and permitivity $g_X$ of ions.\n",
    "When more than one ion species is considered around a semipermeable membrane the equilibrium potential is given by the Goldman eq, for Sodium and Potassium we can write this as"
   ]
  },
  {
   "cell_type": "markdown",
   "id": "fd12665d",
   "metadata": {},
   "source": [
    "$$\n",
    "V_m ={\\frac  {RT}{F}}\\ln {\\left({\\frac  {g_{{{\\text{Na}}}}[{\\text{Na}}^{{+}}]_{{\\mathrm  {out}}}+g_{{{\\text{K}}}}[{\\text{K}}^{{+}}]_{{\\mathrm  {out}}}}{g_{{{\\text{Na}}}}[{\\text{Na}}^{{+}}]_{{\\mathrm  {in}}}+g_{{{\\text{K}}}}[{\\text{K}}^{{+}}]_{{{\\mathrm  {in}}}}}}\\right)}\n",
    "$$\n",
    "$$\n",
    "%V_m ={\\frac  {RT}{F}}\\ln {\\left({\\frac  {P_{{{\\text{Na}}}}[{\\text{Na}}^{{+}}]_{{\\mathrm  {out}}}+P_{{{\\text{K}}}}[{\\text{K}}^{{+}}]_{{\\mathrm  {out}}}+P_{{{\\text{Cl}}}}[{\\text{Cl}}^{{-}}]_{{\\mathrm  {in}}}}{P_{{{\\text{Na}}}}[{\\text{Na}}^{{+}}]_{{\\mathrm  {in}}}+P_{{{\\text{K}}}}[{\\text{K}}^{{+}}]_{{{\\mathrm  {in}}}}+P_{{{\\text{Cl}}}}[{\\text{Cl}}^{{-}}]_{{\\mathrm  {out}}}}}\\right)}\n",
    "$$"
   ]
  },
  {
   "cell_type": "markdown",
   "id": "2e3bc584",
   "metadata": {},
   "source": [
    "In the following section, this equation is plotted as a function of some concentration [X]_{somewhere} and conductiviti $g_X$, so you get an idea what this equation does."
   ]
  },
  {
   "cell_type": "markdown",
   "id": "a25513a6",
   "metadata": {},
   "source": [
    "## Effect of extracellular $[K^+]_\\text{out}$ \n",
    "- How does the membrane equilibrium potential change when the extracellular Poassium Concentration is changed?"
   ]
  },
  {
   "cell_type": "markdown",
   "id": "57b33af2",
   "metadata": {},
   "source": [
    "First, the Goldman eq. is defined in python code.\n",
    "- Run the following code by selecting (click on it) and then pressing SHIFT+ENTER or CTRL+ENTER"
   ]
  },
  {
   "cell_type": "code",
   "execution_count": null,
   "id": "e021cd29",
   "metadata": {},
   "outputs": [],
   "source": [
    "import numpy as np\n",
    "from matplotlib import pyplot as plt\n",
    "\n",
    "def vm_goldmann(g_Na=0.05, g_K=1.0,\n",
    "                Na_in=15, Na_out=145, \n",
    "                K_in=140, K_out=4):\n",
    "    \"\"\"The Goldman-Hodgkin-Katz equation.\n",
    "       input: Conductivities and concentrations in arbitrary units.\n",
    "       returns: Vm in volt.\"\"\"\n",
    "    \n",
    "    # RT/F at room temperature\n",
    "    prefactor = 26.7e-3 # Volt\n",
    "    \n",
    "    # the conductivity weighted concentration ratio sum\n",
    "    gc_ratio = (g_Na*Na_out + g_K * K_out)/(g_Na*Na_in + g_K * K_in)\n",
    "    \n",
    "    # Return the transmembrane potential\n",
    "    vm = prefactor * np.log(gc_ratio)\n",
    "    return vm"
   ]
  },
  {
   "cell_type": "markdown",
   "id": "7d60c397",
   "metadata": {},
   "source": [
    "Then we can plot $V_m([K^+]_\\text{out})$. We present three cases:\n",
    "1. only $g_Na$ \n",
    "2. only $g_K$ \n",
    "3. $g_K = 20 g_Na$ \n",
    "\n",
    "- Run the following code by selecting (click on it) and then pressing SHIFT+ENTER or CTRL+ENTER"
   ]
  },
  {
   "cell_type": "code",
   "execution_count": null,
   "id": "acdb155f",
   "metadata": {},
   "outputs": [],
   "source": [
    "plt.rcParams[\"figure.figsize\"] = (10,6)\n",
    "plt.rcParams[\"font.size\"] = 22\n",
    "#matplotlib.rcParams.update({'font.size': 22})\n",
    "\n",
    "K_outs = np.logspace(-1,4)\n",
    "plt.plot(K_outs, 1e3*vm_goldmann(K_out=K_outs), label=\"Standard\")\n",
    "plt.plot(K_outs, 1e3*vm_goldmann(K_out=K_outs, g_Na=0), label=\"No Na channels\")\n",
    "plt.plot(K_outs, 1e3*vm_goldmann(K_out=K_outs, g_K=0), label=\"No K channels\")\n",
    "plt.semilogx()\n",
    "plt.ylabel(\"$V_m (mV)$\")\n",
    "plt.xlabel(\"K_out\")\n",
    "plt.legend();"
   ]
  },
  {
   "cell_type": "markdown",
   "id": "4ad38552",
   "metadata": {},
   "source": [
    "## Goldmann: g ratio\n",
    "\n",
    "- How does the membrane equilibrium potential change when the ratio $g_{Na}/g_k$ is changed?\n",
    "\n",
    "- Run the following code by selecting (click on it) and then pressing SHIFT+ENTER or CTRL+ENTER"
   ]
  },
  {
   "cell_type": "code",
   "execution_count": null,
   "id": "5d5f945f",
   "metadata": {},
   "outputs": [],
   "source": [
    "g_Nas = np.logspace(-4,4)\n",
    "plt.plot(g_Nas, 1e3*vm_goldmann(g_Na=g_Nas), label=\"4 (standard)\")\n",
    "plt.plot(g_Nas, 1e3*vm_goldmann(g_Na=g_Nas, K_out=10), label=\"10\")\n",
    "plt.plot(g_Nas, 1e3*vm_goldmann(g_Na=g_Nas, K_out=140), label=\"140 ( = [K]$_{\\mathrm{in}}$ )\")\n",
    "plt.legend(title=\"[K]$_{\\mathrm{out}}$\")\n",
    "plt.semilogx()\n",
    "plt.ylabel(\"$V_m (mV)$\")\n",
    "plt.xlabel(\"$g_{Na} / g_{K}$\") # Since g_k is 1"
   ]
  },
  {
   "cell_type": "markdown",
   "id": "354c38c7",
   "metadata": {},
   "source": [
    "# Current injection at passive Cable"
   ]
  },
  {
   "cell_type": "markdown",
   "id": "60a0ce7e",
   "metadata": {},
   "source": [
    "What happens when current is injected in a thin nerve fiber, how does the current spread?\n",
    "\n",
    "\n",
    "The answer is given by the core=conductor- or cable-model. \n",
    "It is a very general model that can be dated back to Lord Kelvin who derived it to describe transatlatic communication cables. Bioelectricity, e.g. in nerve fibers, obeys the same physical laws. \n",
    "More generally speaking the cable equation is the one dimensional heat equation. So you can think of a thin metal rod that is heated at one point (How does the heat spread?).\n",
    "\n",
    "In this model the ion species are not distinguished, there is just one current (of course still with a capacitive and a resistive component). We use a library called Brian.\n",
    "- The capacitive current is calculated inside of Brian. You just define the specific capacity Cm, and the geometry.\n",
    "- The resistive current is given by $$ I_m = g_L * (E_L - V_m) $$ \n",
    "\n",
    "The following code inject current at one end of a finite (not infinite) passive fiber. \n",
    "You may change capacity, Radius, current injection amplitude, leakynes .... \n",
    "\n",
    "- Run the following code by selecting (click on it) and then pressing SHIFT+ENTER or CTRL+ENTER\n",
    "\n",
    "(In case this Notebook has problems, A similar example code can be found and run interactively here:\n",
    "https://hub.mybinder.turing.ac.uk/user/brian-team-brian2-binder-dymv2fxx/notebooks/examples/compartmental/cylinder.ipynb. You can copy paste the code below.)\n"
   ]
  },
  {
   "cell_type": "code",
   "execution_count": null,
   "id": "dcd683cf",
   "metadata": {},
   "outputs": [],
   "source": [
    "from brian2 import *\n",
    "\n",
    "defaultclock.dt = 0.01*ms\n",
    "\n",
    "# Morphology\n",
    "diameter = 1*um\n",
    "length = 300*um\n",
    "Cm = 1*uF/cm**2\n",
    "Ri = 150*ohm*cm\n",
    "N = 200\n",
    "morpho = Cylinder(diameter=diameter, length=length, n=N)\n",
    "\n",
    "# Passive channels\n",
    "gL = 1e-4*siemens/cm**2\n",
    "EL = -70*mV\n",
    "eqs = '''\n",
    "Im = gL * (EL - v) : amp/meter**2\n",
    "I : amp (point current)\n",
    "'''\n",
    "\n",
    "neuron = SpatialNeuron(morphology=morpho, model=eqs, Cm=Cm, Ri=Ri,\n",
    "                       method='exponential_euler')\n",
    "neuron.v = EL\n",
    "M = StateMonitor(neuron, 'v', record=[0, 10,100,199])\n",
    "\n",
    "la = neuron.space_constant[0]\n",
    "print(\"Electrotonic length: %s\" % la.in_best_unit(2))\n",
    "\n",
    "neuron.I[0] = 0.02*nA # injecting at the left end\n",
    "\n",
    "run(.1*ms, report='text')\n",
    "plot(neuron.distance/um, neuron.v/mV, 'k:', label=\"0.1 ms\")\n",
    "run(0.9*ms, report='text')\n",
    "plot(neuron.distance/um, neuron.v/mV, 'k--', label=\"1.0 ms\")\n",
    "run(9*ms, report='text')\n",
    "plot(neuron.distance/um, neuron.v/mV, 'k+', label=\"10.0 ms\")\n",
    "\n",
    "# Theory\n",
    "x = neuron.distance\n",
    "ra = la * 4 * Ri / (pi * diameter**2)\n",
    "theory = EL + ra * neuron.I[0] * cosh((length - x) / la) / sinh(length / la)\n",
    "plot(x/um, theory/mV, 'r', label=r\"Theory $t\\rightarrow\\infty$\")\n",
    "xlabel('x (um)')\n",
    "ylabel('v (mV)')\n",
    "legend(title=\"time\")\n",
    "\n",
    "figure()\n",
    "plot(M.t/ms, M.v.T/mV, label= x[M.record])\n",
    "legend(title=\"Distance from injection\", loc=\"best\", ncol=2)\n",
    "xlabel('t (ms)')\n",
    "ylabel('v (mV)')"
   ]
  },
  {
   "cell_type": "markdown",
   "id": "4daf58a6",
   "metadata": {},
   "source": [
    "# HH Action Potential"
   ]
  },
  {
   "cell_type": "markdown",
   "id": "91b5ff3b",
   "metadata": {},
   "source": [
    "An AP is a rapid and propagating jump in the transmembrane potential. There are many models to describe such a process.\n",
    "The most famous one is the HH model, which is a very detailed purely electrical model.\n",
    "In the first Section it was found that a change in ion specific permeabilities effects the membrane potential. \n",
    "\n",
    "The HH model uses the Goldman eq. and describes the permeabilities with \n",
    "voltage and time dependent expressions.\n",
    "It has more than 20 constant parameters and 3 internal variables (m, n, h).\n",
    "With so many parameters, various AP shapes can be reproduced.\n",
    "However, these properties can not be monitored or controlled so easily, and it is not reaally clear what m, n and h represent in an actual neuron.\n",
    "\n",
    "\n",
    "The following code simuates a HH AP along a long axon, and calculates the propagation velocity.\n",
    "\n",
    "- Run the following code by selecting (click on it) and then pressing SHIFT+ENTER or CTRL+ENTER\n",
    "  (If it doesnt work you can also try at https://mybinder.org/v2/gh/brian-team/brian2-binder/master?filepath=examples/compartmental/hh_with_spikes.ipynb)\n",
    "- whats the AP velocity?"
   ]
  },
  {
   "cell_type": "markdown",
   "id": "dc632162",
   "metadata": {},
   "source": [
    "The nerve is almost half a millimeter thick and still the AP speed is rather disenchanting (should be around 12 m/s)\n",
    "You have heard of myelin which wraps around axons and increases the AP propagation speed.\n",
    "We can include the insulating effect of myelin by decreasing the leak condictivity $g_L$.\n",
    "(Note, divide $g_L$ by 2 would double the so called Electrotonic length or \"length parameter\")\n",
    "\n",
    "- Try to make the AP double its speed by decresing $g_L$.\n",
    "  What is the relation between length parameter and propagation speed?\n",
    "\n",
    "- Change $C_m$ to reach the desired velocity.\n",
    "\n",
    "- Bonus for fun: Are there other ways to accelerate the AP?"
   ]
  },
  {
   "cell_type": "code",
   "execution_count": null,
   "id": "30d54561",
   "metadata": {},
   "outputs": [],
   "source": [
    "from scipy import stats\n",
    "\n",
    "start_scope()\n",
    "defaultclock.dt = 0.01*ms\n",
    "\n",
    "morpho = Cylinder(length=10*cm, diameter=2*238*um, n=1000, type='axon')\n",
    "\n",
    "El = 10.613*mV\n",
    "ENa = 115*mV\n",
    "EK = -12*mV\n",
    "gl = 0.4*msiemens/cm**2\n",
    "gNa0 = 120*msiemens/cm**2\n",
    "gK = 36*msiemens/cm**2\n",
    "\n",
    "# HH equations\n",
    "eqs = '''\n",
    "# The same equations for the whole neuron, but possibly different parameter values\n",
    "# distributed transmembrane current\n",
    "Im = gl * (El-v) + gNa * m**3 * h * (ENa-v) + gK * n**4 * (EK-v) : amp/meter**2\n",
    "I : amp (point current) # applied current\n",
    "dm/dt = alpham * (1-m) - betam * m : 1\n",
    "dn/dt = alphan * (1-n) - betan * n : 1\n",
    "dh/dt = alphah * (1-h) - betah * h : 1\n",
    "alpham = (0.1/mV) * 10.0*mV/exprel((-v+25.0*mV)/(10.0*mV))/ms : Hz\n",
    "betam = 4 * exp(-v/(18.0*mV))/ms : Hz\n",
    "alphah = 0.07 * exp(-v/(20.0*mV))/ms : Hz\n",
    "betah = 1/(exp((-v+30.0*mV) / (10.0*mV)) + 1)/ms : Hz\n",
    "alphan = (0.01/mV) * 10.0*mV/exprel((-v+10.0*mV)/(10.0*mV))/ms : Hz\n",
    "betan = 0.125*exp(-v/(80.0*mV))/ms : Hz\n",
    "gNa : siemens/meter**2\n",
    "'''\n",
    "\n",
    "neuron = SpatialNeuron(morphology=morpho, model=eqs, method=\"exponential_euler\",\n",
    "                       refractory=\"m > 0.4\", threshold=\"m > 0.5\",\n",
    "                       Cm=1*uF/cm**2, Ri=35.4*ohm*cm)\n",
    "neuron.v = 0*mV\n",
    "neuron.h = 1\n",
    "neuron.m = 0\n",
    "neuron.n = .5\n",
    "neuron.I = 0*amp\n",
    "neuron.gNa = gNa0\n",
    "M = StateMonitor(neuron, 'v', record=True)\n",
    "spikes = SpikeMonitor(neuron)\n",
    "\n",
    "run(50*ms, report='text')\n",
    "neuron.I[0] = 1*uA # current injection at one end\n",
    "run(3*ms)\n",
    "neuron.I = 0*amp\n",
    "run(50*ms, report='text')"
   ]
  },
  {
   "cell_type": "code",
   "execution_count": null,
   "id": "3dd99b54",
   "metadata": {},
   "outputs": [],
   "source": [
    "# Calculation of velocity\n",
    "slope, intercept, r_value, p_value, std_err = stats.linregress(spikes.t/second,\n",
    "                                                neuron.distance[spikes.i]/meter)\n",
    "print(\"Velocity = %.2f m/s\" % slope)\n",
    "\n",
    "subplot(211)\n",
    "for i in range(10):\n",
    "    plot(M.t/ms, M.v.T[:, i*100]/mV)\n",
    "ylabel('v')\n",
    "subplot(212)\n",
    "plot(spikes.t/ms, spikes.i*neuron.length[0]/cm, '.k')\n",
    "plot(spikes.t/ms, (intercept+slope*(spikes.t/second))/cm, 'r')\n",
    "xlabel('Time (ms)')\n",
    "ylabel('Position (cm)')\n",
    "show()"
   ]
  },
  {
   "cell_type": "code",
   "execution_count": null,
   "id": "00a3376a",
   "metadata": {},
   "outputs": [],
   "source": []
  }
 ],
 "metadata": {
  "kernelspec": {
   "display_name": "Python 3 (ipykernel)",
   "language": "python",
   "name": "python3"
  },
  "language_info": {
   "codemirror_mode": {
    "name": "ipython",
    "version": 3
   },
   "file_extension": ".py",
   "mimetype": "text/x-python",
   "name": "python",
   "nbconvert_exporter": "python",
   "pygments_lexer": "ipython3",
   "version": "3.9.7"
  },
  "toc": {
   "base_numbering": 1,
   "nav_menu": {},
   "number_sections": true,
   "sideBar": true,
   "skip_h1_title": false,
   "title_cell": "Table of Contents",
   "title_sidebar": "Contents",
   "toc_cell": false,
   "toc_position": {},
   "toc_section_display": true,
   "toc_window_display": true
  }
 },
 "nbformat": 4,
 "nbformat_minor": 5
}
