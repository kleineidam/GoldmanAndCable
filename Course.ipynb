{
 "cells": [
  {
   "cell_type": "markdown",
   "id": "b34a40b5",
   "metadata": {},
   "source": [
    "# Introduction\n",
    "\n",
    "In this part of the course you have to run numerical computations.\n",
    "This notebook contains cells of text (like this one) and also code. You can execute\n",
    "by selecting it and then pressing \n",
    " - SHIFT+ENTER to execute the cell and jump to the next cell\n",
    " - or CTRL+ENTER to just execute.\n",
    " \n",
    "Run the Course from top to bottom by pressing SHIFT-ENTER.\n",
    "\n",
    "The parts of the code that you are supposed to change are surrounded by a lines of hashes (######).\n",
    "Subsequent code cells are folded into little dots and contain code that you do not need to inspect. (The code appears if you click on the dots. It can be collapsed again by clicking the colored bar left of the cell.)\n",
    "\n",
    "After editing the target cell, press SHIFT-ENTER twice to set your parameters and then run the computation."
   ]
  },
  {
   "cell_type": "code",
   "execution_count": 1,
   "id": "d1d20922",
   "metadata": {
    "ExecuteTime": {
     "end_time": "2022-01-16T14:24:36.740694Z",
     "start_time": "2022-01-16T14:24:36.738441Z"
    }
   },
   "outputs": [],
   "source": [
    "############################################## TODO ############################################## \n",
    "# Fill in your name\n",
    "my_name = 'Angelique Arvanitaki'\n",
    "##################################################################################################"
   ]
  },
  {
   "cell_type": "code",
   "execution_count": 2,
   "id": "f518d1f2",
   "metadata": {
    "ExecuteTime": {
     "end_time": "2022-01-16T14:24:39.625087Z",
     "start_time": "2022-01-16T14:24:38.546934Z"
    },
    "hide_input": false,
    "jupyter": {
     "source_hidden": true
    },
    "tags": []
   },
   "outputs": [
    {
     "name": "stdout",
     "output_type": "stream",
     "text": [
      "Well done,  Angelique Arvanitaki !\n"
     ]
    }
   ],
   "source": [
    "# Some libraries need to be imported\n",
    "from brian2 import *\n",
    "from matplotlib import pyplot as plt\n",
    "\n",
    "# In case you are experiencing problems with the figures,\n",
    "# comment out the following line. \n",
    "%matplotlib ipympl\n",
    "print('Well done, ', my_name, '!')"
   ]
  },
  {
   "cell_type": "markdown",
   "id": "82de8dd4",
   "metadata": {},
   "source": [
    "The Course contains the following sections:\n",
    "\n",
    "1. The Goldman (or GHK) equation determines a trans-membrane equilibrium potential. The GHK potential depends on ion specific conductances.\n",
    "   - Explore the GHK equation and how it relates to the individual Nernst potentials.\n",
    "   - Inspect the development of conductances in the HH model and estimate the GHK potential.\n",
    "2. The Cable model\n",
    "   - Compute a constant current injection in an axon (or other fiber).\n",
    "   - Explore the parameters and corresponding length constant of the model.\n",
    "3. The HH model\n",
    "   - Calculate the AP velocity for different parameters.\n",
    "   - Does the velocity relate to the length constant $\\lambda$%\n",
    "\n",
    "   \n",
    "# Goldman equation"
   ]
  },
  {
   "cell_type": "markdown",
   "id": "b102457e",
   "metadata": {},
   "source": [
    "The transmembrane potential of a semipermeable membrane is dependent on the concentration [X] and permitivity $g_X$ of ions.\n",
    "When more than one ion species is considered around a semipermeable membrane the equilibrium potential is given by the Goldmann equation. Considering Sodium and Potassium, the Goldmann eq. is:"
   ]
  },
  {
   "cell_type": "markdown",
   "id": "fd12665d",
   "metadata": {},
   "source": [
    "$$\n",
    "V_{m, GHK} ={\\frac  {RT}{F}}\\ln {\\left({\\frac  {g_{{{\\text{Na}}}}[{\\text{Na}}^{{+}}]_{{\\mathrm  {out}}}+g_{{{\\text{K}}}}[{\\text{K}}^{{+}}]_{{\\mathrm  {out}}}}{g_{{{\\text{Na}}}}[{\\text{Na}}^{{+}}]_{{\\mathrm  {in}}}+g_{{{\\text{K}}}}[{\\text{K}}^{{+}}]_{{{\\mathrm  {in}}}}}}\\right)}\n",
    "$$\n",
    "$$\n",
    "%V_m ={\\frac  {RT}{F}}\\ln {\\left({\\frac  {P_{{{\\text{Na}}}}[{\\text{Na}}^{{+}}]_{{\\mathrm  {out}}}+P_{{{\\text{K}}}}[{\\text{K}}^{{+}}]_{{\\mathrm  {out}}}+P_{{{\\text{Cl}}}}[{\\text{Cl}}^{{-}}]_{{\\mathrm  {in}}}}{P_{{{\\text{Na}}}}[{\\text{Na}}^{{+}}]_{{\\mathrm  {in}}}+P_{{{\\text{K}}}}[{\\text{K}}^{{+}}]_{{{\\mathrm  {in}}}}+P_{{{\\text{Cl}}}}[{\\text{Cl}}^{{-}}]_{{\\mathrm  {out}}}}}\\right)}\n",
    "$$"
   ]
  },
  {
   "cell_type": "markdown",
   "id": "abda5872",
   "metadata": {
    "heading_collapsed": true
   },
   "source": [
    "## Effect of opening channels\n",
    "In a HH model the membrane potential is controlled by the conductivities. The idea is that there are channels that open and allow specific ions to pass. When conductances change, the membrane strives towards a new equilibrium value, which is given by the GHK potential. \n",
    "\n",
    "First we define commen standard values for the conductivities and concentrations.\n",
    "Then you have to insert increasing conductance values. "
   ]
  },
  {
   "cell_type": "code",
   "execution_count": 28,
   "id": "f3d362e0",
   "metadata": {
    "ExecuteTime": {
     "end_time": "2022-01-15T16:10:18.814468Z",
     "start_time": "2022-01-15T16:10:18.808181Z"
    },
    "code_folding": [],
    "hidden": true,
    "tags": []
   },
   "outputs": [],
   "source": [
    "# Common conductance values of a nerve fiber in the resting state\n",
    "g_Na_standard = 0.05\n",
    "g_K_standard = 1.0\n",
    "\n",
    "# Common values for ion concentrations (Arbitrary Units, the units cancel out in the GHK equation)\n",
    "Na_in_standard = 15\n",
    "Na_out_standard = 145\n",
    "K_in_standard = 140\n",
    "K_out_standard = 4"
   ]
  },
  {
   "cell_type": "code",
   "execution_count": 29,
   "id": "d2c61311",
   "metadata": {
    "ExecuteTime": {
     "end_time": "2022-01-15T16:07:47.074177Z",
     "start_time": "2022-01-15T16:07:47.069754Z"
    },
    "hidden": true
   },
   "outputs": [],
   "source": [
    "############################################## TODO ############################################## \n",
    "# The following values are plotted in the cell below.\n",
    "# Add more values to see how Vm changes.\n",
    "g_na_values = [0.05, 0.5, 5]\n",
    "g_k_values = [1.0, 10]\n",
    "\n",
    "# Here you can overwrite the standard values for the concentrations\n",
    "# When no values are given, the standard values are used\n",
    "Ion_Concentrations = [\n",
    "    {'label': 'Standard'\n",
    "    },\n",
    "    #{'label': 'Decreased K_in',\n",
    "    # 'K_in': 1,\n",
    "    #},\n",
    "]\n",
    "##################################################################################################"
   ]
  },
  {
   "cell_type": "code",
   "execution_count": 30,
   "id": "22aa2ef7",
   "metadata": {
    "ExecuteTime": {
     "end_time": "2022-01-15T16:10:18.814468Z",
     "start_time": "2022-01-15T16:10:18.808181Z"
    },
    "code_folding": [
     9,
     15
    ],
    "hidden": true,
    "hide_input": true,
    "jupyter": {
     "source_hidden": true
    },
    "tags": []
   },
   "outputs": [
    {
     "data": {
      "application/vnd.jupyter.widget-view+json": {
       "model_id": "e9dc49ffc0574c9cbcd0ff53de12f985",
       "version_major": 2,
       "version_minor": 0
      },
      "text/plain": [
       "Canvas(toolbar=Toolbar(toolitems=[('Home', 'Reset original view', 'home', 'home'), ('Back', 'Back to previous …"
      ]
     },
     "metadata": {},
     "output_type": "display_data"
    }
   ],
   "source": [
    "def vm_goldmann(g_Na=g_Na_standard,\n",
    "                g_K=g_K_standard,\n",
    "                Na_in=Na_in_standard,\n",
    "                Na_out=Na_out_standard,\n",
    "                K_in=K_in_standard,\n",
    "                K_out=K_out_standard):\n",
    "    \"\"\"The Goldman-Hodgkin-Katz equation.\n",
    "       input: Conductivities and concentrations in arbitrary units.\n",
    "       returns: Vm in volt.\"\"\"\n",
    "\n",
    "    # RT/F at room temperature\n",
    "    prefactor = 26.7e-3  # Volt\n",
    "\n",
    "    # the conductivity weighted concentration ratio sum\n",
    "    gc_ratio = (g_Na*Na_out + g_K * K_out)/(g_Na*Na_in + g_K * K_in)\n",
    "\n",
    "    # Return the transmembrane potential\n",
    "    vm = prefactor * np.log(gc_ratio)\n",
    "    return vm\n",
    "\n",
    "fig, axs = plt.subplots(1, 2, figsize=(9, 5))\n",
    "g_Na_list = np.array(g_na_values)\n",
    "g_K_list = np.array(g_k_values) #np.logspace(np.log10(1), 3)\n",
    "\n",
    "for Ion_Concentration in Ion_Concentrations:\n",
    "    label = Ion_Concentration.pop('label')\n",
    "    axs[0].plot(g_Na_list, 1e3*vm_goldmann(g_Na=g_Na_list, **Ion_Concentration), 'o', label=label)\n",
    "    axs[1].plot(g_K_list, 1e3*vm_goldmann(g_K=g_K_list, **Ion_Concentration), 'o', label=label)\n",
    "\n",
    "axs[0].semilogx()\n",
    "axs[0].set_ylabel(\"$V_m (mV)$\")\n",
    "axs[0].set_title(\"$V_m$ with increasing $g_{Na}$\")\n",
    "axs[0].set_xlabel(\"$g_{Na}$\")\n",
    "axs[0].set_ylim(-100, 100)\n",
    "axs[0].grid()\n",
    "axs[0].legend()\n",
    "\n",
    "axs[1].semilogx()\n",
    "axs[1].set_ylabel(\"$V_m (mV)$\")\n",
    "axs[1].set_title(\"$V_m$ with increasing $g_{K}$\")\n",
    "axs[1].set_xlabel(\"$g_{K}$\")\n",
    "axs[1].set_ylim(-100, 100)\n",
    "axs[1].grid()\n",
    "axs[1].legend()\n",
    "\n",
    "fig.tight_layout()"
   ]
  },
  {
   "cell_type": "markdown",
   "id": "35112dfb-e056-47c0-b280-2d8ed9b3f742",
   "metadata": {
    "ExecuteTime": {
     "end_time": "2022-01-15T16:07:49.186624Z",
     "start_time": "2022-01-15T16:07:48.858340Z"
    },
    "heading_collapsed": true,
    "hide_input": false,
    "tags": []
   },
   "source": [
    "## The full range of the Goldman equation"
   ]
  },
  {
   "cell_type": "code",
   "execution_count": 17,
   "id": "9eb32c02-2f86-4272-82ff-a967b3093826",
   "metadata": {
    "ExecuteTime": {
     "end_time": "2022-01-15T16:07:49.186624Z",
     "start_time": "2022-01-15T16:07:48.858340Z"
    },
    "hidden": true,
    "hide_input": false,
    "jupyter": {
     "source_hidden": true
    },
    "tags": []
   },
   "outputs": [
    {
     "data": {
      "application/vnd.jupyter.widget-view+json": {
       "model_id": "a58bade9c10a40dd899d26cd8d11ccb3",
       "version_major": 2,
       "version_minor": 0
      },
      "text/plain": [
       "Canvas(toolbar=Toolbar(toolitems=[('Home', 'Reset original view', 'home', 'home'), ('Back', 'Back to previous …"
      ]
     },
     "metadata": {},
     "output_type": "display_data"
    }
   ],
   "source": [
    "g_Na_list = np.logspace(-3, 3)\n",
    "g_ratio_list = g_Na_list/g_K_standard\n",
    "fig, ax = plt.subplots(1,1,figsize=(9,5))\n",
    "ax.plot(g_ratio_list, 1e3*vm_goldmann(g_Na=g_ratio_list))\n",
    "\n",
    "ax.semilogx()\n",
    "ax.set_ylabel(\"$V_m (mV)$\")\n",
    "ax.set_title(\"$V_m$ as a continous function of $g_{Na} / g_K$\")\n",
    "ax.grid()\n",
    "ax.set_xlabel(\"$g_{Na}/g_K$\");\n",
    "plt.show()"
   ]
  },
  {
   "cell_type": "markdown",
   "id": "1d56c39e-9b3a-4f5a-9d8b-6bd0abf5a4f8",
   "metadata": {
    "ExecuteTime": {
     "end_time": "2022-01-15T16:51:50.434373Z",
     "start_time": "2022-01-15T16:51:46.248700Z"
    },
    "heading_collapsed": true,
    "hide_input": false,
    "tags": []
   },
   "source": [
    "## Time course of conductivities in the HH model"
   ]
  },
  {
   "cell_type": "code",
   "execution_count": 18,
   "id": "0a8fda92-1c42-4065-9c04-0db1a1f60dbe",
   "metadata": {
    "ExecuteTime": {
     "end_time": "2022-01-15T16:51:50.434373Z",
     "start_time": "2022-01-15T16:51:46.248700Z"
    },
    "hidden": true,
    "hide_input": false,
    "jupyter": {
     "source_hidden": true
    },
    "tags": []
   },
   "outputs": [
    {
     "name": "stdout",
     "output_type": "stream",
     "text": [
      "------------------- Running simulation ---------------------\n",
      "Length constante: 3.56 mm\n",
      "Time constante: 2.5 ms\n",
      "------------------------  Start ----------------------------\n",
      "Starting simulation at t=0. s for a duration of 20. ms\n",
      "20. ms (100%) simulated in < 1s\n",
      "Starting simulation at t=23. ms for a duration of 30. ms\n",
      "30. ms (100%) simulated in < 1s\n"
     ]
    },
    {
     "data": {
      "application/vnd.jupyter.widget-view+json": {
       "model_id": "500ab7ddb38542b6b9e1b05287510e53",
       "version_major": 2,
       "version_minor": 0
      },
      "text/plain": [
       "Canvas(toolbar=Toolbar(toolitems=[('Home', 'Reset original view', 'home', 'home'), ('Back', 'Back to previous …"
      ]
     },
     "metadata": {},
     "output_type": "display_data"
    },
    {
     "data": {
      "text/plain": [
       "<matplotlib.legend.Legend at 0x7fbc0de4cbe0>"
      ]
     },
     "execution_count": 18,
     "metadata": {},
     "output_type": "execute_result"
    }
   ],
   "source": [
    "from scipy import stats\n",
    "\n",
    "start_scope()\n",
    "defaultclock.dt = 0.02*ms\n",
    "\n",
    "morpho = Cylinder(length=10*cm, diameter=2*238*um, n=100)\n",
    "\n",
    "El = 10.613*mV\n",
    "\n",
    "ENa = 115*mV\n",
    "EK = -12*mV\n",
    "\n",
    "gl = 0.4*msiemens/cm**2\n",
    "gNa0 = 120*msiemens/cm**2\n",
    "gK = 36*msiemens/cm**2\n",
    "\n",
    "# HH equations\n",
    "eqs = '''\n",
    "Im = gl * (El-v) + gNa * m**3 * h * (ENa-v) + gK * n**4 * (EK-v) : amp/meter**2\n",
    "I : amp (point current) # applied current\n",
    "dm/dt = alpham * (1-m) - betam * m : 1\n",
    "dn/dt = alphan * (1-n) - betan * n : 1\n",
    "dh/dt = alphah * (1-h) - betah * h : 1\n",
    "alpham = (0.1/mV) * 10.0*mV/exprel((-v+25.0*mV)/(10.0*mV))/ms : Hz\n",
    "betam = 4 * exp(-v/(18.0*mV))/ms : Hz\n",
    "alphah = 0.07 * exp(-v/(20.0*mV))/ms : Hz\n",
    "betah = 1/(exp((-v+30.0*mV) / (10.0*mV)) + 1)/ms : Hz\n",
    "alphan = (0.01/mV) * 10.0*mV/exprel((-v+10.0*mV)/(10.0*mV))/ms : Hz\n",
    "betan = 0.125*exp(-v/(80.0*mV))/ms : Hz\n",
    "gNa : siemens/meter**2\n",
    "gNaTotal = gNa * m**3 *h : siemens/meter**2\n",
    "gKTotal = gK * n**4 : siemens/meter**2\n",
    "'''\n",
    "\n",
    "neuron = SpatialNeuron(morphology=morpho, model=eqs, method=\"exponential_euler\",\n",
    "                       #refractory=\"m > 0.4\", threshold=\"m > 0.5\",\n",
    "                       Cm=1*uF/cm**2, Ri=35.4*ohm*cm)\n",
    "neuron.v = 0*mV\n",
    "neuron.h = 1\n",
    "neuron.m = 0\n",
    "neuron.n = .5\n",
    "neuron.I = 0*amp\n",
    "neuron.gNa = gNa0\n",
    "\n",
    "M = StateMonitor(neuron, ('v', 'gNaTotal', 'gKTotal'), record=[50])\n",
    "\n",
    "la = neuron.space_constant[0]\n",
    "print('------------------- Running simulation ---------------------')\n",
    "print(\"Length constante: %s\" % la.in_best_unit(2))\n",
    "print(\"Time constante:\", (neuron.Cm[0]/gl).in_best_unit(2))\n",
    "print('------------------------  Start ----------------------------')\n",
    "\n",
    "run(20*ms, report='text')\n",
    "neuron.I[0] = 1*uA # current injection at one end\n",
    "run(3*ms)\n",
    "neuron.I = 0*amp\n",
    "run(30*ms, report='text')\n",
    "\n",
    "\n",
    "fig, ax = plt.subplots(1,1,figsize=(9,5))\n",
    "i = 0#50\n",
    "gNatot = M.gNaTotal.T[:, i]\n",
    "ax.plot(M.t/ms, M.gNaTotal.T[:, i]/(siemens/meter**2), label = '$g_{Na}$')\n",
    "ax.plot(M.t/ms, M.gKTotal.T[:, i]/(siemens/meter**2), label = '$g_{K}$')\n",
    "ax.set_ylabel('conductivity [siemens/m$^2$]')\n",
    "ax.set_xlabel('time')\n",
    "ax.legend()"
   ]
  },
  {
   "cell_type": "markdown",
   "id": "354c38c7",
   "metadata": {
    "hide_input": true
   },
   "source": [
    "# Current injection at passive Cable"
   ]
  },
  {
   "cell_type": "markdown",
   "id": "60a0ce7e",
   "metadata": {},
   "source": [
    "What happens when current is injected in a thin nerve fiber, how does the current spread?\n",
    "\n",
    "\n",
    "The answer is given by the core-conductor- or cable-model. \n",
    "It is a very general model that can be dated back to Lord Kelvin who derived it to describe transatlatic communication cables. Bioelectricity, e.g. in nerve fibers, obeys the same physical laws.\n",
    "(More generally speaking the cable equation is the one dimensional heat equation. So you can think of a thin metal rod that is heated at one point, how does the heat spread?).\n",
    "\n",
    "In this model the ion species are not distinguished, there is just one current (of course still with a capacitive and a resistive component). We use a library called Brian to numerically solve the equations.\n",
    "- The capacitive current is calculated inside of Brian. You just define the specific capacity Cm, and the geometry.\n",
    "- The resistive current is given by $$ I_m = g_L \\cdot (E_L - V_m) $$ \n",
    "\n",
    "The following code inject current at one end of a finite (not infinite) passive fiber. \n",
    "You may change capacity, Radius, current injection amplitude, leakynes .... \n",
    "\n",
    "- Run the following code by selecting (click on it) and then pressing SHIFT+ENTER or CTRL+ENTER"
   ]
  },
  {
   "cell_type": "code",
   "execution_count": 19,
   "id": "e1cb8208",
   "metadata": {
    "ExecuteTime": {
     "end_time": "2022-01-15T16:16:56.907182Z",
     "start_time": "2022-01-15T16:16:56.904386Z"
    }
   },
   "outputs": [],
   "source": [
    "############################################## TODO ############################################## \n",
    "# Define the list of parameters that are used\n",
    "# The following parameter pairs are used in the simulation below.\n",
    "# Add more value pairs to explore the cable model.\n",
    "# Format:    [Cm        , gL]\n",
    "cmgl_list = [\n",
    "    [1*uF/cm**2, 1e-4*siemens/cm**2],\n",
    "    #[1*uF/cm**2, 1e-4*siemens/cm**2],\n",
    "    #[1*uF/cm**2, 1e-4*siemens/cm**2],\n",
    "   ]\n",
    "##################################################################################################"
   ]
  },
  {
   "cell_type": "code",
   "execution_count": 20,
   "id": "ac8e412e",
   "metadata": {
    "ExecuteTime": {
     "end_time": "2022-01-15T16:23:02.709726Z",
     "start_time": "2022-01-15T16:23:01.880828Z"
    },
    "code_folding": [],
    "hide_input": false,
    "jupyter": {
     "source_hidden": true
    },
    "tags": []
   },
   "outputs": [
    {
     "data": {
      "application/vnd.jupyter.widget-view+json": {
       "model_id": "43ddedffd9154ff0afa1781768042381",
       "version_major": 2,
       "version_minor": 0
      },
      "text/plain": [
       "Canvas(toolbar=Toolbar(toolitems=[('Home', 'Reset original view', 'home', 'home'), ('Back', 'Back to previous …"
      ]
     },
     "metadata": {},
     "output_type": "display_data"
    },
    {
     "name": "stdout",
     "output_type": "stream",
     "text": [
      "Model Nr.0  Cm = 0.01 F/m^2\n",
      "Model Nr.0  gL = 1. S/m^2\n",
      "Model Nr.0  Length constant = 0.41 mm\n",
      "Model Nr.0  Time constante = 10. ms\n",
      "----------------------------------------\n"
     ]
    }
   ],
   "source": [
    "fig, ax = plt.subplots(1,1, figsize=(9, 5))\n",
    "\n",
    "for model_nr, (Cm, gL) in enumerate(cmgl_list):   \n",
    "\n",
    "    start_scope()\n",
    "    defaultclock.dt = 0.1*ms\n",
    "    \n",
    "    # Morphology\n",
    "    diameter = 1*um\n",
    "    length = 2*mm\n",
    "    Ri = 150*ohm*cm\n",
    "    N = 200\n",
    "    morpho = Cylinder(diameter=diameter, length=length, n=N)\n",
    "\n",
    "    # Passive channels\n",
    "    EL = -70*mV\n",
    "    eqs = '''\n",
    "    Im = gL * (EL - v) : amp/meter**2\n",
    "    I : amp (point current)\n",
    "    '''\n",
    "\n",
    "    neuron = SpatialNeuron(morphology=morpho, model=eqs, Cm=Cm, Ri=Ri,\n",
    "                           method='exponential_euler')\n",
    "    neuron.v = EL\n",
    "    M = StateMonitor(neuron, 'v', record=[0, 50])\n",
    "\n",
    "    la = neuron.space_constant[0]\n",
    "    \n",
    "    print('Model Nr.%i '%model_nr, \"Cm =\",Cm)\n",
    "    print('Model Nr.%i '%model_nr, \"gL =\",gL)\n",
    "    print('Model Nr.%i '%model_nr, \"Length constant = %s\" % la.in_best_unit(2))\n",
    "    print('Model Nr.%i '%model_nr, \"Time constante = %s\" % (Cm/gL).in_best_unit(2))\n",
    "    print('----------------------------------------')\n",
    "\n",
    "\n",
    "    # Currrent injection at one end\n",
    "    neuron.I[0] = 0.02*nA \n",
    "\n",
    "    # Running an plotting\n",
    "    report = None\n",
    "    run(.5*ms, report=report)\n",
    "    run(4.5*ms, report=report)\n",
    "    run(45*ms, report=report)\n",
    "    \n",
    "    ln = ax.plot(M.t/ms, M.v.T[:,0]/mV, '-',\n",
    "                 label='Model %i at '%model_nr+str(neuron.morphology.distance[M.record[0]]))\n",
    "    ax.plot(M.t/ms, M.v.T[:,1]/mV, '--', color = ln[0].get_color(),\n",
    "            label='Model %i at '%model_nr+str(neuron.morphology.distance[M.record[1]]))\n",
    "    \n",
    "    \n",
    "ax.legend(title=\"Position along the axon x (mm)\", loc=\"best\", ncol=2)#, label=x[M.record])\n",
    "ax.set_xlabel('time since beginning of current injection (ms)')\n",
    "ax.set_ylabel('Membrane potential $V_m(x, t)$ (mV)')\n",
    "fig.tight_layout()"
   ]
  },
  {
   "cell_type": "markdown",
   "id": "4daf58a6",
   "metadata": {
    "heading_collapsed": true
   },
   "source": [
    "# HH Action Potential"
   ]
  },
  {
   "cell_type": "markdown",
   "id": "91b5ff3b",
   "metadata": {
    "hidden": true
   },
   "source": [
    "An AP is a rapid and propagating jump in the transmembrane potential. There are many models to describe such a process.\n",
    "The most famous one is the HH model, which is a very detailed purely electrical model.\n",
    "In the first Section it was found that a change in ion specific permeabilities effects the membrane potential. \n",
    "\n",
    "The HH model uses the Goldman eq. and describes the permeabilities with \n",
    "voltage and time dependent expressions.\n",
    "It has more than 20 constant parameters and 3 internal variables (m, n, h).\n",
    "With so many parameters, various AP shapes can be reproduced.\n",
    "However, these properties can not be monitored or controlled so easily, and it is not reaally clear what m, n and h represent in an actual neuron.\n",
    "\n",
    "\n",
    "The following code simuates a HH AP along a long axon, and calculates the propagation velocity.\n",
    "\n",
    "- Run the following code by selecting (click on it) and then pressing SHIFT+ENTER or CTRL+ENTER\n",
    "- whats the AP velocity?"
   ]
  },
  {
   "cell_type": "markdown",
   "id": "dc632162",
   "metadata": {
    "hidden": true
   },
   "source": [
    "The nerve is almost half a millimeter thick and still the AP speed is rather disenchanting (should be around 12 m/s)\n",
    "You have heard of myelin which wraps around axons and increases the AP propagation speed.\n",
    "We can include the insulating effect of myelin by decreasing the leak condictivity $g_L$.\n",
    "(Note, divide $g_L$ by 2 would double the so called Electrotonic length or \"length parameter\")\n",
    "\n",
    "- Try to make the AP double its speed by decresing $g_L$.\n",
    "  What is the relation between length parameter and propagation speed?\n",
    "\n",
    "- Change $C_m$ to reach the desired velocity.\n",
    "\n",
    "- Bonus for fun: Are there other ways to accelerate the AP?"
   ]
  },
  {
   "cell_type": "code",
   "execution_count": 21,
   "id": "818bcc48",
   "metadata": {
    "ExecuteTime": {
     "end_time": "2022-01-15T16:48:08.527228Z",
     "start_time": "2022-01-15T16:48:08.520426Z"
    },
    "hidden": true,
    "tags": []
   },
   "outputs": [],
   "source": [
    "# The following parameter sets are used.\n",
    "HH_parameters = [\n",
    "    {\n",
    "    'Cm': 1 * uF / cm**2,\n",
    "    'Ri': 35.4 * ohm * cm,\n",
    "    'gl': 0.4 * msiemens / cm**2,\n",
    "    'diameter': 2 * 238 * um,\n",
    "    'label': 'Standard'\n",
    "    }, \n",
    "############################################## TODO ##############################################\n",
    "# Add more parameter sets to investigate the effect on the propagation velocity.\n",
    "#    {\n",
    "#    'Cm': 1 * uF / cm**2,\n",
    "#    'Ri': 35.4 * ohm * cm,\n",
    "#    'gl': 0.4 * msiemens / cm**2,\n",
    "#    'diameter': 3 * 238 * um,\n",
    "#    'label': 'thicker axon'\n",
    "#    },\n",
    "##################################################################################################\n",
    "]"
   ]
  },
  {
   "cell_type": "code",
   "execution_count": 22,
   "id": "6c497f35",
   "metadata": {
    "ExecuteTime": {
     "end_time": "2022-01-15T16:50:02.173827Z",
     "start_time": "2022-01-15T16:50:00.201061Z"
    },
    "hidden": true,
    "hide_input": false,
    "jupyter": {
     "source_hidden": true
    },
    "tags": []
   },
   "outputs": [
    {
     "data": {
      "application/vnd.jupyter.widget-view+json": {
       "model_id": "67db71f5c5954aa9813baca1e17cf744",
       "version_major": 2,
       "version_minor": 0
      },
      "text/plain": [
       "Canvas(toolbar=Toolbar(toolitems=[('Home', 'Reset original view', 'home', 'home'), ('Back', 'Back to previous …"
      ]
     },
     "metadata": {},
     "output_type": "display_data"
    },
    {
     "name": "stdout",
     "output_type": "stream",
     "text": [
      "------------------- Running simulation ---------------------\n",
      "Length constante: 3.56 mm\n",
      "Time constante: 2.5 ms\n",
      "------------------------  Start ----------------------------\n",
      "Starting simulation at t=0. s for a duration of 20. ms\n",
      "20. ms (100%) simulated in < 1s\n",
      "Length constante: 1.29 mm\n",
      "Starting simulation at t=23. ms for a duration of 30. ms\n",
      "30. ms (100%) simulated in < 1s\n",
      "------------------------  Done  ----------------------------\n",
      "  Velocity = 12.02 m/s\n"
     ]
    }
   ],
   "source": [
    "from scipy import stats\n",
    "\n",
    "fig, ax = plt.subplots(1,1, figsize=(9,5))\n",
    "\n",
    "for HH_parameter in HH_parameters:\n",
    "    \n",
    "    Cm = HH_parameter['Cm']\n",
    "    Ri = HH_parameter['Ri']\n",
    "    gl = HH_parameter['gl']\n",
    "    diameter = HH_parameter['diameter']\n",
    "    label = HH_parameter['label']\n",
    "    \n",
    "    start_scope()\n",
    "    defaultclock.dt = 0.05*ms\n",
    "\n",
    "    morpho = Cylinder(length=10*cm, diameter=diameter, n=500)\n",
    "\n",
    "    El = 10.613*mV\n",
    "    ENa = 115*mV\n",
    "    EK = -12*mV\n",
    "    gNa0 = 120*msiemens/cm**2\n",
    "    gK = 36*msiemens/cm**2\n",
    "    gl = gl\n",
    "\n",
    "    # HH equations\n",
    "    eqs = '''\n",
    "    Im = gl * (El-v) + gNa * m**3 * h * (ENa-v) + gK * n**4 * (EK-v) : amp/meter**2\n",
    "    I : amp (point current) # applied current\n",
    "    dm/dt = alpham * (1-m) - betam * m : 1\n",
    "    dn/dt = alphan * (1-n) - betan * n : 1\n",
    "    dh/dt = alphah * (1-h) - betah * h : 1\n",
    "    alpham = (0.1/mV) * 10.0*mV/exprel((-v+25.0*mV)/(10.0*mV))/ms : Hz\n",
    "    betam = 4 * exp(-v/(18.0*mV))/ms : Hz\n",
    "    alphah = 0.07 * exp(-v/(20.0*mV))/ms : Hz\n",
    "    betah = 1/(exp((-v+30.0*mV) / (10.0*mV)) + 1)/ms : Hz\n",
    "    alphan = (0.01/mV) * 10.0*mV/exprel((-v+10.0*mV)/(10.0*mV))/ms : Hz\n",
    "    betan = 0.125*exp(-v/(80.0*mV))/ms : Hz\n",
    "    gNa : siemens/meter**2\n",
    "    '''\n",
    "\n",
    "    neuron = SpatialNeuron(morphology=morpho, model=eqs, method=\"exponential_euler\",\n",
    "                           refractory=\"m > 0.4\", threshold=\"m > 0.5\",\n",
    "                           Cm=Cm, Ri=Ri)\n",
    "    neuron.v = 0*mV\n",
    "    neuron.h = 1\n",
    "    neuron.m = 0\n",
    "    neuron.n = .5\n",
    "    neuron.I = 0*amp\n",
    "    neuron.gNa = gNa0\n",
    "    M = StateMonitor(neuron, ('v', 'gNa'), record=True)\n",
    "    spikes = SpikeMonitor(neuron)\n",
    "\n",
    "\n",
    "    la = neuron.space_constant[0]\n",
    "    print('------------------- Running simulation ---------------------')\n",
    "    print(\"Length constante: %s\" % la.in_best_unit(2))\n",
    "    print(\"Time constante:\", (neuron.Cm[0]/gl).in_best_unit(2))\n",
    "    print('------------------------  Start ----------------------------')\n",
    "\n",
    "    run(20*ms, report='text')\n",
    "    neuron.I[0] = 3*uA # current injection at one end\n",
    "    run(3*ms)\n",
    "    la = neuron.space_constant[0]\n",
    "    print(\"Length constante: %s\" % la.in_best_unit(2))\n",
    "    neuron.I = 0*amp\n",
    "    run(30*ms, report='text')\n",
    "\n",
    "    # Calculation of velocity\n",
    "    slope, intercept, r_value, p_value, std_err = stats.linregress(spikes.t/second,\n",
    "                                                    neuron.distance[spikes.i]/meter)\n",
    "    print('------------------------  Done  ----------------------------')\n",
    "    print(\"  Velocity = %.2f m/s\" % slope)\n",
    "    \n",
    "    i = morpho.n//3\n",
    "    ln = ax.plot(M.t/ms, M.v[i,:]/mV, \n",
    "         label=label+' '+str(morpho.distance[i]-morpho.distance[0]))\n",
    "    i = 2*morpho.n//3\n",
    "    ax.plot(M.t/ms, M.v[i,:]/mV, '--', color=ln[0].get_color(),\n",
    "         label=label+' '+str(morpho.distance[i]-morpho.distance[0]))\n",
    "    legend(title='Position along the axon')\n",
    "    ylabel('Membrane potential (mV)')\n",
    "    xlabel('Time (ms)')"
   ]
  },
  {
   "cell_type": "markdown",
   "id": "8c1270b9-4ac7-4817-8899-12d5d606c6ad",
   "metadata": {
    "heading_collapsed": true
   },
   "source": [
    "# Supplementary material: "
   ]
  },
  {
   "cell_type": "markdown",
   "id": "6158bcfc-bdf1-4c3e-b2cd-17c6121772f4",
   "metadata": {
    "hidden": true
   },
   "source": [
    "## Analytic expression for the velocity\n",
    "The effective $g^\\star$ is around a third of the peak value of $g_{Na}$"
   ]
  },
  {
   "cell_type": "markdown",
   "id": "269a867f",
   "metadata": {
    "ExecuteTime": {
     "end_time": "2022-01-16T14:26:19.027198Z",
     "start_time": "2022-01-16T14:26:19.024895Z"
    },
    "hidden": true
   },
   "source": [
    "### no myelin"
   ]
  },
  {
   "cell_type": "code",
   "execution_count": 9,
   "id": "65ec82cf-c35f-4c27-a7ca-ec47cae75646",
   "metadata": {
    "ExecuteTime": {
     "end_time": "2022-01-16T14:28:25.747629Z",
     "start_time": "2022-01-16T14:28:25.736132Z"
    },
    "hidden": true
   },
   "outputs": [],
   "source": [
    "def calc_V_nonMy(\n",
    "           Cm = 1 *uF/cm**2,\n",
    "           diam = 238*2*um,\n",
    "           Ri = 36*ohm*cm):\n",
    "    cm_len = Cm * (pi * diam)\n",
    "    gstar_len = 100*siemens/meter**2 * (pi * diam)\n",
    "    gstar_len.in_unit(siemens/meter)\n",
    "    ri_len = Ri/(pi * (0.5 * diam)**2)\n",
    "    \n",
    "    return (1/(cm_len)) * sqrt(gstar_len/(2*ri_len))"
   ]
  },
  {
   "cell_type": "markdown",
   "id": "8c9ab858-7ef1-446e-9234-3f783c74b251",
   "metadata": {
    "hidden": true
   },
   "source": [
    "## Plotting the conductivities and corresponding Goldman equilibrium\n",
    "\n",
    "The following section is just a demonstration how the above provided plots are generated. Understanding the following sections is not part of the Couse."
   ]
  },
  {
   "cell_type": "code",
   "execution_count": 44,
   "id": "78f27362",
   "metadata": {
    "ExecuteTime": {
     "end_time": "2022-01-15T16:51:50.434373Z",
     "start_time": "2022-01-15T16:51:46.248700Z"
    },
    "hidden": true,
    "hide_input": false,
    "jupyter": {
     "source_hidden": true
    },
    "tags": []
   },
   "outputs": [
    {
     "name": "stdout",
     "output_type": "stream",
     "text": [
      "------------------- Running simulation ---------------------\n",
      "Length constante: 3.56 mm\n",
      "Time constante: 2.5 ms\n",
      "------------------------  Start ----------------------------\n",
      "Starting simulation at t=0. s for a duration of 20. ms\n",
      "20. ms (100%) simulated in < 1s\n",
      "Starting simulation at t=23. ms for a duration of 30. ms\n",
      "30. ms (100%) simulated in < 1s\n"
     ]
    },
    {
     "data": {
      "text/plain": [
       "<matplotlib.legend.Legend at 0x7fc615daf550>"
      ]
     },
     "execution_count": 44,
     "metadata": {},
     "output_type": "execute_result"
    },
    {
     "data": {
      "application/vnd.jupyter.widget-view+json": {
       "model_id": "a464f2e6656f49938d67b3b4e952bc4f",
       "version_major": 2,
       "version_minor": 0
      },
      "image/png": "[encoded data removed]",
      "text/html": [
       "\n",
       "            <div style=\"display: inline-block;\">\n",
       "                <div class=\"jupyter-widgets widget-label\" style=\"text-align: center;\">\n",
       "                    Figure\n",
       "                </div>\n",
       "                <img src='data:image/png;base64,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' width=900.0/>\n",
       "            </div>\n",
       "        "
      ],
      "text/plain": [
       "Canvas(toolbar=Toolbar(toolitems=[('Home', 'Reset original view', 'home', 'home'), ('Back', 'Back to previous …"
      ]
     },
     "metadata": {},
     "output_type": "display_data"
    }
   ],
   "source": [
    "from scipy import stats\n",
    "\n",
    "start_scope()\n",
    "defaultclock.dt = 0.02*ms\n",
    "\n",
    "morpho = Cylinder(length=10*cm, diameter=2*238*um, n=100)\n",
    "\n",
    "El = 10.613*mV\n",
    "\n",
    "ENa = 115*mV\n",
    "EK = -12*mV\n",
    "\n",
    "gl = 0.4*msiemens/cm**2\n",
    "gNa0 = 120*msiemens/cm**2\n",
    "gK = 36*msiemens/cm**2\n",
    "\n",
    "# HH equations\n",
    "eqs = '''\n",
    "Im = gl * (El-v) + gNa * m**3 * h * (ENa-v) + gK * n**4 * (EK-v) : amp/meter**2\n",
    "I : amp (point current) # applied current\n",
    "dm/dt = alpham * (1-m) - betam * m : 1\n",
    "dn/dt = alphan * (1-n) - betan * n : 1\n",
    "dh/dt = alphah * (1-h) - betah * h : 1\n",
    "alpham = (0.1/mV) * 10.0*mV/exprel((-v+25.0*mV)/(10.0*mV))/ms : Hz\n",
    "betam = 4 * exp(-v/(18.0*mV))/ms : Hz\n",
    "alphah = 0.07 * exp(-v/(20.0*mV))/ms : Hz\n",
    "betah = 1/(exp((-v+30.0*mV) / (10.0*mV)) + 1)/ms : Hz\n",
    "alphan = (0.01/mV) * 10.0*mV/exprel((-v+10.0*mV)/(10.0*mV))/ms : Hz\n",
    "betan = 0.125*exp(-v/(80.0*mV))/ms : Hz\n",
    "gNa : siemens/meter**2\n",
    "gNaTotal = gNa * m**3 *h : siemens/meter**2\n",
    "gKTotal = gK * n**4 : siemens/meter**2\n",
    "'''\n",
    "\n",
    "neuron = SpatialNeuron(morphology=morpho, model=eqs, method=\"exponential_euler\",\n",
    "                       #refractory=\"m > 0.4\", threshold=\"m > 0.5\",\n",
    "                       Cm=1*uF/cm**2, Ri=35.4*ohm*cm)\n",
    "neuron.v = 0*mV\n",
    "neuron.h = 1\n",
    "neuron.m = 0\n",
    "neuron.n = .5\n",
    "neuron.I = 0*amp\n",
    "neuron.gNa = gNa0\n",
    "\n",
    "M = StateMonitor(neuron, ('v', 'gNaTotal', 'gKTotal'), record=[50])\n",
    "\n",
    "la = neuron.space_constant[0]\n",
    "print('------------------- Running simulation ---------------------')\n",
    "print(\"Length constante: %s\" % la.in_best_unit(2))\n",
    "print(\"Time constante:\", (neuron.Cm[0]/gl).in_best_unit(2))\n",
    "print('------------------------  Start ----------------------------')\n",
    "\n",
    "run(20*ms, report='text')\n",
    "neuron.I[0] = 1*uA # current injection at one end\n",
    "run(3*ms)\n",
    "neuron.I = 0*amp\n",
    "run(30*ms, report='text')\n",
    "\n",
    "\n",
    "fig, ax = plt.subplots(1,1,figsize=(9,5))\n",
    "i = 0#50\n",
    "gNatot = M.gNaTotal.T[:, i]\n",
    "ax.plot(M.t/ms, M.gNaTotal.T[:, i]/(siemens/meter**2), label = '$g_{Na}$')\n",
    "ax.plot(M.t/ms, M.gKTotal.T[:, i]/(siemens/meter**2), label = '$g_{K}$')\n",
    "ax.set_ylabel('conductivity [siemens/m$^2$]')\n",
    "ax.set_xlabel('time')\n",
    "ax.legend()"
   ]
  },
  {
   "cell_type": "code",
   "execution_count": 45,
   "id": "f93e565c",
   "metadata": {
    "ExecuteTime": {
     "end_time": "2022-01-15T16:52:01.426982Z",
     "start_time": "2022-01-15T16:52:01.421350Z"
    },
    "hidden": true,
    "hide_input": true
   },
   "outputs": [],
   "source": [
    "prefactor = 26.7e-3 * volt\n",
    "K_out_HH = K_in_standard *exp(-12*mV/prefactor )\n",
    "#vm_goldmann(g_K=1e99, K_out=K_out_HH)*volt\n",
    "Na_out_HH = Na_in_standard *exp(115*mV/prefactor )\n",
    "#vm_goldmann(g_Na=1e99, Na_out=Na_out_HH)*volt"
   ]
  },
  {
   "cell_type": "code",
   "execution_count": 46,
   "id": "56f26a17",
   "metadata": {
    "ExecuteTime": {
     "end_time": "2022-01-15T16:52:02.682059Z",
     "start_time": "2022-01-15T16:52:02.419802Z"
    },
    "hidden": true,
    "hide_input": true
   },
   "outputs": [
    {
     "data": {
      "application/vnd.jupyter.widget-view+json": {
       "model_id": "06c3fbbb62ce4c4d95dd3d24c099bee2",
       "version_major": 2,
       "version_minor": 0
      },
      "image/png": "[encoded data removed]",
      "text/html": [
       "\n",
       "            <div style=\"display: inline-block;\">\n",
       "                <div class=\"jupyter-widgets widget-label\" style=\"text-align: center;\">\n",
       "                    Figure\n",
       "                </div>\n",
       "                <img src='data:image/png;base64,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' width=900.0/>\n",
       "            </div>\n",
       "        "
      ],
      "text/plain": [
       "Canvas(toolbar=Toolbar(toolitems=[('Home', 'Reset original view', 'home', 'home'), ('Back', 'Back to previous …"
      ]
     },
     "metadata": {},
     "output_type": "display_data"
    }
   ],
   "source": [
    "fig, axs = plt.subplots(2, 1, figsize=(9, 5), sharex=True)\n",
    "i = 0#50\n",
    "gNatot = M.gNaTotal.T[:, i]\n",
    "axs[0].plot(M.t/ms, M.gNaTotal.T[:, i]/(siemens/meter**2), label = '$g_{Na}$')\n",
    "axs[0].plot(M.t/ms, M.gKTotal.T[:, i]/(siemens/meter**2), label = '$g_{K}$')\n",
    "\n",
    "axs[0].set_ylabel('conductivity [siemens/m$^2$]')\n",
    "axs[0].set_xlabel('time')\n",
    "axs[0].legend()\n",
    "\n",
    "axs[1].plot(M.t/ms, M.v.T[:, i]/mV, label='Membrane potential')\n",
    "axs[1].plot(M.t/ms, vm_goldmann(g_Na=M.gNaTotal.T[:, i],\n",
    "                                g_K=M.gKTotal.T[:, i],\n",
    "                                Na_out=Na_out_HH,\n",
    "                                K_out=K_out_HH,\n",
    "                                )/mV, label = 'Goldman equilibrium (leak-free)')\n",
    "\n",
    "axs[1].set_ylabel('Potential [mV]')\n",
    "axs[1].set_xlabel('time')\n",
    "axs[1].legend()\n",
    "fig.tight_layout()"
   ]
  },
  {
   "cell_type": "code",
   "execution_count": null,
   "id": "6a4b238b",
   "metadata": {
    "hidden": true
   },
   "outputs": [],
   "source": []
  }
 ],
 "metadata": {
  "hide_input": false,
  "kernelspec": {
   "display_name": "Python 3 (ipykernel)",
   "language": "python",
   "name": "python3"
  },
  "language_info": {
   "codemirror_mode": {
    "name": "ipython",
    "version": 3
   },
   "file_extension": ".py",
   "mimetype": "text/x-python",
   "name": "python",
   "nbconvert_exporter": "python",
   "pygments_lexer": "ipython3",
   "version": "3.9.6"
  },
  "toc": {
   "base_numbering": 1,
   "nav_menu": {},
   "number_sections": true,
   "sideBar": true,
   "skip_h1_title": false,
   "title_cell": "Table of Contents",
   "title_sidebar": "Contents",
   "toc_cell": false,
   "toc_position": {
    "height": "calc(100% - 180px)",
    "left": "10px",
    "top": "150px",
    "width": "384px"
   },
   "toc_section_display": true,
   "toc_window_display": true
  },
  "varInspector": {
   "cols": {
    "lenName": 16,
    "lenType": 16,
    "lenVar": 40
   },
   "kernels_config": {
    "python": {
     "delete_cmd_postfix": "",
     "delete_cmd_prefix": "del ",
     "library": "var_list.py",
     "varRefreshCmd": "print(var_dic_list())"
    },
    "r": {
     "delete_cmd_postfix": ") ",
     "delete_cmd_prefix": "rm(",
     "library": "var_list.r",
     "varRefreshCmd": "cat(var_dic_list()) "
    }
   },
   "types_to_exclude": [
    "module",
    "function",
    "builtin_function_or_method",
    "instance",
    "_Feature"
   ],
   "window_display": false
  }
 },
 "nbformat": 4,
 "nbformat_minor": 5
}
