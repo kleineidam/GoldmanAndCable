{
 "cells": [
  {
   "cell_type": "markdown",
   "id": "82de8dd4",
   "metadata": {},
   "source": [
    "# Goldman equation"
   ]
  },
  {
   "cell_type": "markdown",
   "id": "b102457e",
   "metadata": {},
   "source": [
    "The transmembrane potential of a semipermeable membrane is dependent on the concentration [X] and permitivity $g_X$ of ions.\n",
    "When more than one ion species is considered around a semipermeable membrane the equilibrium potential is given by the Goldmann equation. Considering Sodium and Potassium, the Goldmann eq. is:"
   ]
  },
  {
   "cell_type": "markdown",
   "id": "fd12665d",
   "metadata": {},
   "source": [
    "$$\n",
    "V_m ={\\frac  {RT}{F}}\\ln {\\left({\\frac  {g_{{{\\text{Na}}}}[{\\text{Na}}^{{+}}]_{{\\mathrm  {out}}}+g_{{{\\text{K}}}}[{\\text{K}}^{{+}}]_{{\\mathrm  {out}}}}{g_{{{\\text{Na}}}}[{\\text{Na}}^{{+}}]_{{\\mathrm  {in}}}+g_{{{\\text{K}}}}[{\\text{K}}^{{+}}]_{{{\\mathrm  {in}}}}}}\\right)}\n",
    "$$\n",
    "$$\n",
    "%V_m ={\\frac  {RT}{F}}\\ln {\\left({\\frac  {P_{{{\\text{Na}}}}[{\\text{Na}}^{{+}}]_{{\\mathrm  {out}}}+P_{{{\\text{K}}}}[{\\text{K}}^{{+}}]_{{\\mathrm  {out}}}+P_{{{\\text{Cl}}}}[{\\text{Cl}}^{{-}}]_{{\\mathrm  {in}}}}{P_{{{\\text{Na}}}}[{\\text{Na}}^{{+}}]_{{\\mathrm  {in}}}+P_{{{\\text{K}}}}[{\\text{K}}^{{+}}]_{{{\\mathrm  {in}}}}+P_{{{\\text{Cl}}}}[{\\text{Cl}}^{{-}}]_{{\\mathrm  {out}}}}}\\right)}\n",
    "$$"
   ]
  },
  {
   "cell_type": "markdown",
   "id": "57b33af2",
   "metadata": {},
   "source": [
    "First, the Goldman eq. is defined in python code.\n",
    "- Run the following code by selecting (click on it) and then pressing SHIFT+ENTER or CTRL+ENTER"
   ]
  },
  {
   "cell_type": "markdown",
   "id": "abda5872",
   "metadata": {},
   "source": [
    "## Effect of opening channels"
   ]
  },
  {
   "cell_type": "code",
   "execution_count": 8,
   "id": "d17acd25",
   "metadata": {
    "hide_input": false
   },
   "outputs": [],
   "source": [
    "# Some libraries need to be imported\n",
    "from brian2 import *\n",
    "from matplotlib import pyplot as plt\n",
    "# Uncomment the following line for interactive plots (unstable)\n",
    "%matplotlib ipympl"
   ]
  },
  {
   "cell_type": "code",
   "execution_count": 9,
   "id": "9b220d26",
   "metadata": {},
   "outputs": [],
   "source": [
    "g_Na_standard = 0.05\n",
    "g_K_standard = 1.0\n",
    "Na_in_standard = 15\n",
    "Na_out_standard = 145\n",
    "K_in_standard = 140\n",
    "K_out_standard = 4\n",
    "\n",
    "\n",
    "\n",
    "def vm_goldmann(g_Na=g_Na_standard,\n",
    "                g_K=g_K_standard,\n",
    "                Na_in=Na_in_standard,\n",
    "                Na_out=Na_out_standard,\n",
    "                K_in=K_in_standard,\n",
    "                K_out=K_out_standard):\n",
    "    \"\"\"The Goldman-Hodgkin-Katz equation.\n",
    "       input: Conductivities and concentrations in arbitrary units.\n",
    "       returns: Vm in volt.\"\"\"\n",
    "\n",
    "    # RT/F at room temperature\n",
    "    prefactor = 26.7e-3  # Volt\n",
    "\n",
    "    # the conductivity weighted concentration ratio sum\n",
    "    gc_ratio = (g_Na*Na_out + g_K * K_out)/(g_Na*Na_in + g_K * K_in)\n",
    "\n",
    "    # Return the transmembrane potential\n",
    "    vm = prefactor * np.log(gc_ratio)\n",
    "    return vm"
   ]
  },
  {
   "cell_type": "code",
   "execution_count": 10,
   "id": "d2c61311",
   "metadata": {},
   "outputs": [],
   "source": [
    "# The following values are plotted in the cell below.\n",
    "# Add more values to see how Vm changes.\n",
    "g_na_values = [0.05, 0.5, 5]\n",
    "g_k_values = [1.0, 10]"
   ]
  },
  {
   "cell_type": "code",
   "execution_count": 97,
   "id": "ffd5c23c",
   "metadata": {
    "hide_input": false,
    "scrolled": false
   },
   "outputs": [
    {
     "data": {
      "application/vnd.jupyter.widget-view+json": {
       "model_id": "07341a57b0f74740a17323cfc2fa0d91",
       "version_major": 2,
       "version_minor": 0
      },
      "text/plain": [
       "Canvas(toolbar=Toolbar(toolitems=[('Home', 'Reset original view', 'home', 'home'), ('Back', 'Back to previous …"
      ]
     },
     "metadata": {},
     "output_type": "display_data"
    }
   ],
   "source": [
    "g_Na_list = np.array(g_na_values)\n",
    "fig, axs = plt.subplots(1, 2, figsize=(9, 5))\n",
    "axs[0].plot(g_Na_list, 1e3*vm_goldmann(g_Na=g_Na_list), 'o', label='Standard parameter')\n",
    "\n",
    "\n",
    "# Uncomment the next line and tweak the value of K_in\n",
    "axs[0].plot(g_Na_list, 1e3*vm_goldmann(g_Na=g_Na_list, K_in=10), 'x', label='Increased inner potassium')\n",
    "\n",
    "\n",
    "axs[0].semilogx()\n",
    "axs[0].set_ylabel(\"$V_m (mV)$\")\n",
    "axs[0].set_title(\"$V_m$ with increasing $g_{Na}$\")\n",
    "axs[0].set_xlabel(\"$g_{Na}$\")\n",
    "axs[0].set_ylim(-100, 100)\n",
    "axs[0].grid()\n",
    "axs[0].legend()\n",
    "\n",
    "g_K_list = np.array(g_k_values) #np.logspace(np.log10(1), 3)\n",
    "axs[1].plot(g_K_list, 1e3*vm_goldmann(g_K=g_K_list), 'o', label='Standard parameter')\n",
    "axs[1].semilogx()\n",
    "axs[1].set_ylabel(\"$V_m (mV)$\")\n",
    "axs[1].set_title(\"$V_m$ with increasing $g_{K}$\")\n",
    "axs[1].set_xlabel(\"$g_{K}$\")\n",
    "axs[1].set_ylim(-100, 100)\n",
    "axs[1].grid()\n",
    "axs[1].legend()\n",
    "\n",
    "fig.tight_layout()"
   ]
  },
  {
   "cell_type": "code",
   "execution_count": 12,
   "id": "226ef4b3",
   "metadata": {
    "hide_input": false
   },
   "outputs": [
    {
     "data": {
      "application/vnd.jupyter.widget-view+json": {
       "model_id": "45453749b5a6406f8fb5c7cd13d6a8e2",
       "version_major": 2,
       "version_minor": 0
      },
      "text/plain": [
       "Canvas(toolbar=Toolbar(toolitems=[('Home', 'Reset original view', 'home', 'home'), ('Back', 'Back to previous …"
      ]
     },
     "metadata": {},
     "output_type": "display_data"
    }
   ],
   "source": [
    "g_Na_list = np.logspace(-3, 3)\n",
    "g_ratio_list = g_Na_list/g_K_standard\n",
    "fig, ax = plt.subplots(1,1,figsize=(9,5))\n",
    "ax.plot(g_ratio_list, 1e3*vm_goldmann(g_Na=g_ratio_list))\n",
    "\n",
    "ax.semilogx()\n",
    "ax.set_ylabel(\"$V_m (mV)$\")\n",
    "ax.set_title(\"$V_m$ as a continous function of $g_{Na} / g_K$\")\n",
    "ax.grid()\n",
    "ax.set_xlabel(\"$g_{Na}/g_K$\");"
   ]
  },
  {
   "cell_type": "markdown",
   "id": "354c38c7",
   "metadata": {
    "hide_input": true
   },
   "source": [
    "# Current injection at passive Cable"
   ]
  },
  {
   "cell_type": "markdown",
   "id": "60a0ce7e",
   "metadata": {},
   "source": [
    "What happens when current is injected in a thin nerve fiber, how does the current spread?\n",
    "\n",
    "\n",
    "The answer is given by the core-conductor- or cable-model. \n",
    "It is a very general model that can be dated back to Lord Kelvin who derived it to describe transatlatic communication cables. Bioelectricity, e.g. in nerve fibers, obeys the same physical laws.\n",
    "(More generally speaking the cable equation is the one dimensional heat equation. So you can think of a thin metal rod that is heated at one point, how does the heat spread?).\n",
    "\n",
    "In this model the ion species are not distinguished, there is just one current (of course still with a capacitive and a resistive component). We use a library called Brian to numerically solve the equations.\n",
    "- The capacitive current is calculated inside of Brian. You just define the specific capacity Cm, and the geometry.\n",
    "- The resistive current is given by $$ I_m = g_L \\cdot (E_L - V_m) $$ \n",
    "\n",
    "The following code inject current at one end of a finite (not infinite) passive fiber. \n",
    "You may change capacity, Radius, current injection amplitude, leakynes .... \n",
    "\n",
    "- Run the following code by selecting (click on it) and then pressing SHIFT+ENTER or CTRL+ENTER"
   ]
  },
  {
   "cell_type": "code",
   "execution_count": 43,
   "id": "e1cb8208",
   "metadata": {},
   "outputs": [],
   "source": [
    "# Define the list of parameters that are used\n",
    "# The following parameter pairs are used in the simulation below.\n",
    "# Add more value pairs to explore the cable model.\n",
    "# Format:    [Cm        , gL]\n",
    "cmgl_list = [\n",
    "    [1*uF/cm**2, 1e-4*siemens/cm**2],\n",
    "    #[1*uF/cm**2, 1e-4*siemens/cm**2],\n",
    "    #[1*uF/cm**2, 1e-4*siemens/cm**2],\n",
    "   ]"
   ]
  },
  {
   "cell_type": "code",
   "execution_count": 42,
   "id": "ac8e412e",
   "metadata": {
    "hide_input": false
   },
   "outputs": [
    {
     "data": {
      "application/vnd.jupyter.widget-view+json": {
       "model_id": "10e264e84bf542aabe455a1071ad1174",
       "version_major": 2,
       "version_minor": 0
      },
      "text/plain": [
       "Canvas(toolbar=Toolbar(toolitems=[('Home', 'Reset original view', 'home', 'home'), ('Back', 'Back to previous …"
      ]
     },
     "metadata": {},
     "output_type": "display_data"
    },
    {
     "name": "stdout",
     "output_type": "stream",
     "text": [
      "Model Nr.0 Cm: 0.01 F/m^2\n",
      "Model Nr.0 gL: 1. S/m^2\n",
      "Model Nr.0 Length constant: 0.41 mm\n",
      "Model Nr.0 Time constante: 10. ms\n",
      "----------------------------------------\n",
      "Model Nr.1 Cm: 0.005 F/m^2\n",
      "Model Nr.1 gL: 1. S/m^2\n",
      "Model Nr.1 Length constant: 0.41 mm\n",
      "Model Nr.1 Time constante: 5. ms\n",
      "----------------------------------------\n",
      "Model Nr.2 Cm: 0. F/m^2\n",
      "Model Nr.2 gL: 1. S/m^2\n",
      "Model Nr.2 Length constant: 0.41 mm\n",
      "Model Nr.2 Time constante: 0. s\n",
      "----------------------------------------\n"
     ]
    }
   ],
   "source": [
    "plt.figure('Injection')\n",
    "fig, ax = plt.subplots(1,1, figsize=(9, 5))\n",
    "\n",
    "for model_nr, (Cm, gL) in enumerate(cmgl_list):   \n",
    "\n",
    "    start_scope()\n",
    "    defaultclock.dt = 0.1*ms\n",
    "    \n",
    "    # Morphology\n",
    "    diameter = 1*um\n",
    "    length = 4*mm\n",
    "    Ri = 150*ohm*cm\n",
    "    N = 200\n",
    "    morpho = Cylinder(diameter=diameter, length=length, n=N)\n",
    "\n",
    "    # Passive channels\n",
    "    EL = -70*mV\n",
    "    eqs = '''\n",
    "    Im = gL * (EL - v) : amp/meter**2\n",
    "    I : amp (point current)\n",
    "    '''\n",
    "\n",
    "    neuron = SpatialNeuron(morphology=morpho, model=eqs, Cm=Cm, Ri=Ri,\n",
    "                           method='exponential_euler')\n",
    "    neuron.v = EL\n",
    "    M = StateMonitor(neuron, 'v', record=[0, 50])\n",
    "\n",
    "    la = neuron.space_constant[0]\n",
    "    \n",
    "    print('Model Nr.%i'%model_nr, \"Cm:\",Cm)\n",
    "    print('Model Nr.%i'%model_nr, \"gL:\",gL)\n",
    "    print('Model Nr.%i'%model_nr, \"Length constant: %s\" % la.in_best_unit(2))\n",
    "    print('Model Nr.%i'%model_nr, \"Time constante: %s\" % (Cm/gL).in_best_unit(2))\n",
    "    print('----------------------------------------')\n",
    "\n",
    "\n",
    "    # Currrent injection at one end\n",
    "    neuron.I[0] = 0.02*nA \n",
    "\n",
    "    # Running an plotting\n",
    "    report = None\n",
    "    #fig.suptitle('Model '+str(model_nr)+'  $Cm=$'+Cm.in_best_unit(2)+' $g_l=$'+gL.in_best_unit(3))\n",
    "    run(.5*ms, report=report)\n",
    "    #axs[0].plot(neuron.distance/mm, neuron.v/mV, 'k:', label=neuron.t.variable.get_value_with_unit()[0])\n",
    "    run(4.5*ms, report=report)\n",
    "    #axs[0].plot(neuron.distance/mm, neuron.v/mV, 'k--', label=neuron.t.variable.get_value_with_unit()[0])\n",
    "    run(45*ms, report=report)\n",
    "    #axs[0].plot(neuron.distance/mm, neuron.v/mV, 'k+', label=neuron.t.variable.get_value_with_unit()[0])\n",
    "    \n",
    "    # Plot theory\n",
    "    # x = neuron.distance\n",
    "    # ra = la * 4 * Ri / (pi * diameter**2)\n",
    "    # theory = EL + ra * neuron.I[0] * cosh((length - x) / la) / sinh(length / la)\n",
    "    # axs[0].plot(x/mm, theory/mV, 'r', label=r\"Theory\")\n",
    "    # axs[0].set_xlabel('Position along the axon x (mm)')\n",
    "    # axs[0].set_ylabel('Membrane potential $V_m(x, t)$ (mV)')\n",
    "    # axs[0].legend(title=\"time since beginning of current injection (ms)\")\n",
    "    \n",
    "    #ax.plot(M.t/ms, M.v.T/mV, ls=np.array(['--', ':']))\n",
    "    ln = ax.plot(M.t/ms, M.v.T[:,0]/mV, '-', label='Model %i at '%model_nr+str(x[M.record[0]]))\n",
    "    ax.plot(M.t/ms, M.v.T[:,1]/mV, '--', color = ln[0].get_color(),\n",
    "            label='Model %i at '%model_nr+str(x[M.record[0]]))\n",
    "    \n",
    "    \n",
    "ax.legend(title=\"Position along the axon x (mm)\", loc=\"best\", ncol=2)#, label=x[M.record])\n",
    "ax.set_xlabel('time since beginning of current injection (ms)')\n",
    "ax.set_ylabel('Membrane potential $V_m(x, t)$ (mV)')\n",
    "fig.tight_layout()"
   ]
  },
  {
   "cell_type": "markdown",
   "id": "4daf58a6",
   "metadata": {},
   "source": [
    "# HH Action Potential"
   ]
  },
  {
   "cell_type": "markdown",
   "id": "91b5ff3b",
   "metadata": {},
   "source": [
    "An AP is a rapid and propagating jump in the transmembrane potential. There are many models to describe such a process.\n",
    "The most famous one is the HH model, which is a very detailed purely electrical model.\n",
    "In the first Section it was found that a change in ion specific permeabilities effects the membrane potential. \n",
    "\n",
    "The HH model uses the Goldman eq. and describes the permeabilities with \n",
    "voltage and time dependent expressions.\n",
    "It has more than 20 constant parameters and 3 internal variables (m, n, h).\n",
    "With so many parameters, various AP shapes can be reproduced.\n",
    "However, these properties can not be monitored or controlled so easily, and it is not reaally clear what m, n and h represent in an actual neuron.\n",
    "\n",
    "\n",
    "The following code simuates a HH AP along a long axon, and calculates the propagation velocity.\n",
    "\n",
    "- Run the following code by selecting (click on it) and then pressing SHIFT+ENTER or CTRL+ENTER\n",
    "- whats the AP velocity?"
   ]
  },
  {
   "cell_type": "markdown",
   "id": "dc632162",
   "metadata": {},
   "source": [
    "The nerve is almost half a millimeter thick and still the AP speed is rather disenchanting (should be around 12 m/s)\n",
    "You have heard of myelin which wraps around axons and increases the AP propagation speed.\n",
    "We can include the insulating effect of myelin by decreasing the leak condictivity $g_L$.\n",
    "(Note, divide $g_L$ by 2 would double the so called Electrotonic length or \"length parameter\")\n",
    "\n",
    "- Try to make the AP double its speed by decresing $g_L$.\n",
    "  What is the relation between length parameter and propagation speed?\n",
    "\n",
    "- Change $C_m$ to reach the desired velocity.\n",
    "\n",
    "- Bonus for fun: Are there other ways to accelerate the AP?"
   ]
  },
  {
   "cell_type": "code",
   "execution_count": 45,
   "id": "1b201135",
   "metadata": {},
   "outputs": [],
   "source": [
    "# The following parameters are used.\n",
    "# Change these values to investigate the its effect on the propagation velocity.\n",
    "Cm = 1*uF/cm**2\n",
    "Ri = 35.4*ohm*cm\n",
    "gl = 0.4*msiemens/cm**2\n",
    "diameter = 2*238*um"
   ]
  },
  {
   "cell_type": "code",
   "execution_count": 46,
   "id": "30d54561",
   "metadata": {
    "hide_input": false
   },
   "outputs": [
    {
     "name": "stdout",
     "output_type": "stream",
     "text": [
      "------------------- Running simulation ---------------------\n",
      "Length constante: 3.56 mm\n",
      "Time constante: 2.5 ms\n",
      "------------------------  Start ----------------------------\n",
      "Starting simulation at t=0. s for a duration of 20. ms\n",
      "20. ms (100%) simulated in < 1s\n",
      "Length constante: 1.09 mm\n",
      "Starting simulation at t=23. ms for a duration of 30. ms\n",
      "30. ms (100%) simulated in < 1s\n",
      "------------------------  Done  ----------------------------\n",
      "  Velocity = 12.03 m/s\n"
     ]
    },
    {
     "data": {
      "application/vnd.jupyter.widget-view+json": {
       "model_id": "76af3f5ef0674d0f953a560e198a3e8d",
       "version_major": 2,
       "version_minor": 0
      },
      "text/plain": [
       "Canvas(toolbar=Toolbar(toolitems=[('Home', 'Reset original view', 'home', 'home'), ('Back', 'Back to previous …"
      ]
     },
     "metadata": {},
     "output_type": "display_data"
    }
   ],
   "source": [
    "from scipy import stats\n",
    "\n",
    "start_scope()\n",
    "defaultclock.dt = 0.05*ms\n",
    "\n",
    "morpho = Cylinder(length=10*cm, diameter=diameter, n=500)\n",
    "\n",
    "El = 10.613*mV\n",
    "ENa = 115*mV\n",
    "EK = -12*mV\n",
    "gNa0 = 120*msiemens/cm**2\n",
    "gK = 36*msiemens/cm**2\n",
    "gl = gl\n",
    "\n",
    "# HH equations\n",
    "eqs = '''\n",
    "Im = gl * (El-v) + gNa * m**3 * h * (ENa-v) + gK * n**4 * (EK-v) : amp/meter**2\n",
    "I : amp (point current) # applied current\n",
    "dm/dt = alpham * (1-m) - betam * m : 1\n",
    "dn/dt = alphan * (1-n) - betan * n : 1\n",
    "dh/dt = alphah * (1-h) - betah * h : 1\n",
    "alpham = (0.1/mV) * 10.0*mV/exprel((-v+25.0*mV)/(10.0*mV))/ms : Hz\n",
    "betam = 4 * exp(-v/(18.0*mV))/ms : Hz\n",
    "alphah = 0.07 * exp(-v/(20.0*mV))/ms : Hz\n",
    "betah = 1/(exp((-v+30.0*mV) / (10.0*mV)) + 1)/ms : Hz\n",
    "alphan = (0.01/mV) * 10.0*mV/exprel((-v+10.0*mV)/(10.0*mV))/ms : Hz\n",
    "betan = 0.125*exp(-v/(80.0*mV))/ms : Hz\n",
    "gNa : siemens/meter**2\n",
    "'''\n",
    "\n",
    "neuron = SpatialNeuron(morphology=morpho, model=eqs, method=\"exponential_euler\",\n",
    "                       refractory=\"m > 0.4\", threshold=\"m > 0.5\",\n",
    "                       Cm=Cm, Ri=Ri)\n",
    "neuron.v = 0*mV\n",
    "neuron.h = 1\n",
    "neuron.m = 0\n",
    "neuron.n = .5\n",
    "neuron.I = 0*amp\n",
    "neuron.gNa = gNa0\n",
    "M = StateMonitor(neuron, ('v', 'gNa'), record=True)\n",
    "spikes = SpikeMonitor(neuron)\n",
    "\n",
    "\n",
    "la = neuron.space_constant[0]\n",
    "print('------------------- Running simulation ---------------------')\n",
    "print(\"Length constante: %s\" % la.in_best_unit(2))\n",
    "print(\"Time constante:\", (neuron.Cm[0]/gl).in_best_unit(2))\n",
    "print('------------------------  Start ----------------------------')\n",
    "\n",
    "run(20*ms, report='text')\n",
    "neuron.I[0] = 1*uA # current injection at one end\n",
    "run(3*ms)\n",
    "la = neuron.space_constant[0]\n",
    "print(\"Length constante: %s\" % la.in_best_unit(2))\n",
    "neuron.I = 0*amp\n",
    "run(30*ms, report='text')\n",
    "\n",
    "# Calculation of velocity\n",
    "slope, intercept, r_value, p_value, std_err = stats.linregress(spikes.t/second,\n",
    "                                                neuron.distance[spikes.i]/meter)\n",
    "print('------------------------  Done  ----------------------------')\n",
    "print(\"  Velocity = %.2f m/s\" % slope)\n",
    "\n",
    "plt.figure(figsize=(9,7))\n",
    "subplot(211)\n",
    "for i in range(5):\n",
    "    plot(M.t/ms, M.v.T[:, i*M.v.shape[0]//5]/mV, label=(morpho.distance[i*100]-morpho.distance[0]))\n",
    "legend()\n",
    "ylabel('Membrane potential (mV)')\n",
    "xlabel('Time (ms)')\n",
    "subplot(212)\n",
    "plot(spikes.t/ms, spikes.i*neuron.length[0]/cm, '.k', label='Detected spike times')\n",
    "plot(spikes.t/ms, (intercept+slope*(spikes.t/second))/cm, 'r', label='Linear fit')\n",
    "legend()\n",
    "xlabel('Time at which the threshold is reached (ms)')\n",
    "ylabel('Position (cm)')\n",
    "show()"
   ]
  },
  {
   "cell_type": "code",
   "execution_count": 93,
   "id": "cfdd2bd5",
   "metadata": {},
   "outputs": [],
   "source": [
    "cm_len = Cm * (pi * neuron.diameter[0])\n",
    "gstar_len = 100*siemens/meter**2 * (pi * neuron.diameter[0])\n",
    "gstar_len.in_unit(siemens/meter)\n",
    "ri_len = Ri/(pi * (0.5 * neuron.diameter[0])**2)"
   ]
  },
  {
   "cell_type": "code",
   "execution_count": 94,
   "id": "f8595191",
   "metadata": {},
   "outputs": [
    {
     "data": {
      "text/latex": [
       "$12.9645322339527\\,m\\,s^{-1}$"
      ],
      "text/plain": [
       "12.96453223 * metre * second ** -1"
      ]
     },
     "execution_count": 94,
     "metadata": {},
     "output_type": "execute_result"
    }
   ],
   "source": [
    "(1/(cm_len)) * sqrt(gstar_len/(2*ri_len))"
   ]
  },
  {
   "cell_type": "markdown",
   "id": "727162ad",
   "metadata": {},
   "source": [
    "# Supplementary material: Plotting the conductivities\n",
    "\n",
    "The following section is just a demonstration how the above provided plots are generated. Understanding the following sections is not part of the Couse."
   ]
  },
  {
   "cell_type": "code",
   "execution_count": 14,
   "id": "78f27362",
   "metadata": {
    "hide_input": false
   },
   "outputs": [
    {
     "name": "stdout",
     "output_type": "stream",
     "text": [
      "------------------- Running simulation ---------------------\n",
      "Length constante: 3.56 mm\n",
      "Time constante: 2.5 ms\n",
      "------------------------  Start ----------------------------\n",
      "Starting simulation at t=0. s for a duration of 20. ms\n",
      "20. ms (100%) simulated in < 1s\n",
      "Starting simulation at t=23. ms for a duration of 30. ms\n",
      "30. ms (100%) simulated in < 1s\n"
     ]
    }
   ],
   "source": [
    "from scipy import stats\n",
    "\n",
    "start_scope()\n",
    "defaultclock.dt = 0.02*ms\n",
    "\n",
    "morpho = Cylinder(length=10*cm, diameter=2*238*um, n=100)\n",
    "\n",
    "El = 10.613*mV\n",
    "\n",
    "ENa = 115*mV\n",
    "EK = -12*mV\n",
    "\n",
    "gl = 0.4*msiemens/cm**2\n",
    "gNa0 = 120*msiemens/cm**2\n",
    "gK = 36*msiemens/cm**2\n",
    "\n",
    "# HH equations\n",
    "eqs = '''\n",
    "Im = gl * (El-v) + gNa * m**3 * h * (ENa-v) + gK * n**4 * (EK-v) : amp/meter**2\n",
    "I : amp (point current) # applied current\n",
    "dm/dt = alpham * (1-m) - betam * m : 1\n",
    "dn/dt = alphan * (1-n) - betan * n : 1\n",
    "dh/dt = alphah * (1-h) - betah * h : 1\n",
    "alpham = (0.1/mV) * 10.0*mV/exprel((-v+25.0*mV)/(10.0*mV))/ms : Hz\n",
    "betam = 4 * exp(-v/(18.0*mV))/ms : Hz\n",
    "alphah = 0.07 * exp(-v/(20.0*mV))/ms : Hz\n",
    "betah = 1/(exp((-v+30.0*mV) / (10.0*mV)) + 1)/ms : Hz\n",
    "alphan = (0.01/mV) * 10.0*mV/exprel((-v+10.0*mV)/(10.0*mV))/ms : Hz\n",
    "betan = 0.125*exp(-v/(80.0*mV))/ms : Hz\n",
    "gNa : siemens/meter**2\n",
    "gNaTotal = gNa * m**3 *h : siemens/meter**2\n",
    "gKTotal = gK * n**4 : siemens/meter**2\n",
    "'''\n",
    "\n",
    "neuron = SpatialNeuron(morphology=morpho, model=eqs, method=\"exponential_euler\",\n",
    "                       #refractory=\"m > 0.4\", threshold=\"m > 0.5\",\n",
    "                       Cm=1*uF/cm**2, Ri=35.4*ohm*cm)\n",
    "neuron.v = 0*mV\n",
    "neuron.h = 1\n",
    "neuron.m = 0\n",
    "neuron.n = .5\n",
    "neuron.I = 0*amp\n",
    "neuron.gNa = gNa0\n",
    "\n",
    "M = StateMonitor(neuron, ('v', 'gNaTotal', 'gKTotal'), record=True)\n",
    "\n",
    "la = neuron.space_constant[0]\n",
    "print('------------------- Running simulation ---------------------')\n",
    "print(\"Length constante: %s\" % la.in_best_unit(2))\n",
    "print(\"Time constante:\", (neuron.Cm[0]/gl).in_best_unit(2))\n",
    "print('------------------------  Start ----------------------------')\n",
    "\n",
    "run(20*ms, report='text')\n",
    "neuron.I[0] = 1*uA # current injection at one end\n",
    "run(3*ms)\n",
    "neuron.I = 0*amp\n",
    "run(30*ms, report='text')"
   ]
  },
  {
   "cell_type": "code",
   "execution_count": 15,
   "id": "f93e565c",
   "metadata": {
    "hide_input": true
   },
   "outputs": [],
   "source": [
    "prefactor = 26.7e-3 * volt\n",
    "K_out_HH = K_in_standard *exp(-12*mV/prefactor )\n",
    "#vm_goldmann(g_K=1e99, K_out=K_out_HH)*volt\n",
    "Na_out_HH = Na_in_standard *exp(115*mV/prefactor )\n",
    "#vm_goldmann(g_Na=1e99, Na_out=Na_out_HH)*volt"
   ]
  },
  {
   "cell_type": "code",
   "execution_count": 16,
   "id": "56f26a17",
   "metadata": {
    "hide_input": true
   },
   "outputs": [
    {
     "data": {
      "application/vnd.jupyter.widget-view+json": {
       "model_id": "374fd87ba9184274ac9efc8f8d02cc2d",
       "version_major": 2,
       "version_minor": 0
      },
      "text/plain": [
       "Canvas(toolbar=Toolbar(toolitems=[('Home', 'Reset original view', 'home', 'home'), ('Back', 'Back to previous …"
      ]
     },
     "metadata": {},
     "output_type": "display_data"
    }
   ],
   "source": [
    "fig, axs = plt.subplots(2, 1, figsize=(9, 5), sharex=True)\n",
    "i = 50\n",
    "gNatot = M.gNaTotal.T[:, i]\n",
    "axs[0].plot(M.t/ms, M.gNaTotal.T[:, i]/(siemens/meter**2), label = '$g_{Na}$')\n",
    "axs[0].plot(M.t/ms, M.gKTotal.T[:, i]/(siemens/meter**2), label = '$g_{K}$')\n",
    "\n",
    "axs[0].set_ylabel('conductivity [siemens/m$^2$]')\n",
    "axs[0].set_xlabel('time')\n",
    "axs[0].legend()\n",
    "\n",
    "axs[1].plot(M.t/ms, M.v.T[:, i]/mV, label='Membrane potential')\n",
    "axs[1].plot(M.t/ms, vm_goldmann(g_Na=M.gNaTotal.T[:, i],\n",
    "                                g_K=M.gKTotal.T[:, i],\n",
    "                                Na_out=Na_out_HH,\n",
    "                                K_out=K_out_HH,\n",
    "                                )/mV, label = 'Goldman equilibrium (leak-free)')\n",
    "\n",
    "axs[1].set_ylabel('Potential [mV]')\n",
    "axs[1].set_xlabel('time')\n",
    "axs[1].legend()\n",
    "fig.tight_layout()"
   ]
  },
  {
   "cell_type": "code",
   "execution_count": null,
   "id": "6a4b238b",
   "metadata": {},
   "outputs": [],
   "source": []
  }
 ],
 "metadata": {
  "kernelspec": {
   "display_name": "Python 3",
   "language": "python",
   "name": "python3"
  },
  "language_info": {
   "codemirror_mode": {
    "name": "ipython",
    "version": 3
   },
   "file_extension": ".py",
   "mimetype": "text/x-python",
   "name": "python",
   "nbconvert_exporter": "python",
   "pygments_lexer": "ipython3",
   "version": "3.8.8"
  },
  "toc": {
   "base_numbering": 1,
   "nav_menu": {},
   "number_sections": true,
   "sideBar": true,
   "skip_h1_title": false,
   "title_cell": "Table of Contents",
   "title_sidebar": "Contents",
   "toc_cell": false,
   "toc_position": {},
   "toc_section_display": true,
   "toc_window_display": true
  }
 },
 "nbformat": 4,
 "nbformat_minor": 5
}
